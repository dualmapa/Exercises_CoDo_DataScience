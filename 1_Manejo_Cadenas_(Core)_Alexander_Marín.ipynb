{
  "nbformat": 4,
  "nbformat_minor": 0,
  "metadata": {
    "colab": {
      "provenance": [],
      "toc_visible": true
    },
    "kernelspec": {
      "name": "python3",
      "display_name": "Python 3"
    },
    "language_info": {
      "name": "python"
    }
  },
  "cells": [
    {
      "cell_type": "markdown",
      "source": [
        "# **Manejo de cadenas**"
      ],
      "metadata": {
        "id": "i53GZDyoGta9"
      }
    },
    {
      "cell_type": "markdown",
      "source": [
        "## Ejercicio 1: Saludo Personalizado\n",
        "\n",
        "* Crea un programa que pida al usuario su nombre y edad, y luego imprima un saludo personalizado.\n",
        "* Usa input para capturar el nombre y la edad.\n",
        "* Usa print para mostrar el saludo."
      ],
      "metadata": {
        "id": "e_Cb-ZIzGzvk"
      }
    },
    {
      "cell_type": "code",
      "execution_count": 1,
      "metadata": {
        "colab": {
          "base_uri": "https://localhost:8080/"
        },
        "id": "Yh4TbC2vGQqX",
        "outputId": "4908a649-e6f6-4136-9f1e-46d34ff0f705"
      },
      "outputs": [
        {
          "output_type": "stream",
          "name": "stdout",
          "text": [
            "Hola ¿Cómo te llamas? Alexander\n",
            "Y... ¿Cuántos años tienes? 32\n",
            "Hola Alexander, actualmente tienes 32 años.\n"
          ]
        }
      ],
      "source": [
        "nombre = input(\"Hola ¿Cómo te llamas? \")\n",
        "edad = input(\"Y... ¿Cuántos años tienes? \")\n",
        "edad = int(edad)  # Convertir a entero, porque la salida de input es str\n",
        "print(f\"Hola {nombre}, actualmente tienes {edad} años.\")"
      ]
    },
    {
      "cell_type": "markdown",
      "source": [
        "## Ejercicio 2: Manipulación de Cadenas\n",
        "\n",
        "* Crea una cadena con tu nombre completo.\n",
        "* Usa los métodos de cadenas para:\n",
        "  * Convertir el nombre a mayúsculas y minúsculas.\n",
        "  * Contar el número de letras en tu nombre.\n",
        "  * Reemplazar tu primer nombre por otro nombre.\n"
      ],
      "metadata": {
        "id": "b7jpx-H0HnO8"
      }
    },
    {
      "cell_type": "code",
      "source": [
        "full_name = \"Duber Alexander Marín Pavas\"\n",
        "\n",
        "print(\"Mi nombre en mayúsculas: \", full_name.upper(),\n",
        "      \"\\nMi nombre en minúsculas: \", full_name.lower(),\n",
        "      \"\\nMi nombre tiene \", len(full_name),\n",
        "      \"caracteres, incluidos \", full_name.count(\" \"), \"espacios\"\n",
        "      )\n",
        "\n",
        "#Si quiero solo la cantidad de caracteres\n",
        "#print(\"\\nMi nombre tiene \", int(len(full_name))-full_name.count(\" \"), \"caracteres\")"
      ],
      "metadata": {
        "colab": {
          "base_uri": "https://localhost:8080/"
        },
        "id": "P4NdCA90HfQ0",
        "outputId": "4a3e55d6-0d4c-4d5a-a555-e92664f4d803"
      },
      "execution_count": 7,
      "outputs": [
        {
          "output_type": "stream",
          "name": "stdout",
          "text": [
            "Mi nombre en mayúsculas:  DUBER ALEXANDER MARÍN PAVAS \n",
            "Mi nombre en minúsculas:  duber alexander marín pavas \n",
            "Mi nombre tiene  27 caracteres, incluidos  3 espacios\n"
          ]
        }
      ]
    },
    {
      "cell_type": "markdown",
      "source": [
        "## Ejercicio 3: Lista de Nombres\n",
        "\n",
        "* Pide al usuario que ingrese una lista de nombres separados por comas.\n",
        "* Usa split para convertir esta cadena en una lista de nombres.\n",
        "* Imprime cada nombre en una línea separada.\n"
      ],
      "metadata": {
        "id": "9G75w7A4JjEL"
      }
    },
    {
      "cell_type": "code",
      "source": [
        "lista = input(\"Por favor, ingresa varios nombres separados por comas: \")\n",
        "print(lista.split(\",\"))\n",
        "for nombre in lista.split(\",\"):\n",
        "  print(nombre.strip())"
      ],
      "metadata": {
        "colab": {
          "base_uri": "https://localhost:8080/"
        },
        "id": "TE9yllBpKZ0Y",
        "outputId": "b0cb6e34-d909-402a-a386-1798850fa6eb"
      },
      "execution_count": 12,
      "outputs": [
        {
          "output_type": "stream",
          "name": "stdout",
          "text": [
            "Por favor, ingresa varios nombres separados por comas: Duber, Alexander, Lucas, Mateo\n",
            "['Duber', ' Alexander', ' Lucas', ' Mateo']\n",
            "Duber\n",
            "Alexander\n",
            "Lucas\n",
            "Mateo\n"
          ]
        }
      ]
    },
    {
      "cell_type": "code",
      "source": [
        "\n"
      ],
      "metadata": {
        "id": "lyDrQuAMKUcp"
      },
      "execution_count": null,
      "outputs": []
    }
  ]
}