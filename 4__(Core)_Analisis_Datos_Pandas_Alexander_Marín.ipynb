{
  "nbformat": 4,
  "nbformat_minor": 0,
  "metadata": {
    "colab": {
      "provenance": [],
      "toc_visible": true
    },
    "kernelspec": {
      "name": "python3",
      "display_name": "Python 3"
    },
    "language_info": {
      "name": "python"
    }
  },
  "cells": [
    {
      "cell_type": "markdown",
      "source": [
        "# Descripción\n",
        "Analsis de datos con Pandas (Core)"
      ],
      "metadata": {
        "id": "0QnV1TsmH7sc"
      }
    },
    {
      "cell_type": "markdown",
      "source": [
        "#Objetivo\n",
        "\n",
        "El objetivo de este desafío es evaluar tus habilidades en el manejo de datos utilizando Pandas. Trabajarás con un dataset real extraído de Kaggle y aplicarás técnicas de carga, exploración, filtrado y slicing de datos.\n",
        "\n"
      ],
      "metadata": {
        "id": "e-g1Qw63L9dZ"
      }
    },
    {
      "cell_type": "markdown",
      "source": [
        "# Dataset\n",
        "\n",
        "\n",
        "Utilizaremos el dataset de «Video Game Sales» que contiene información sobre las ventas de videojuegos en diferentes regiones del mundo. El dataset incluye detalles sobre el nombre del juego, la plataforma, el año de lanzamiento, el género, el editor, y las ventas en diferentes regiones. Puedes descargar el dataset desde Kaggle.\n",
        "https://www.kaggle.com/datasets/gregorut/videogamesales"
      ],
      "metadata": {
        "id": "6zRU7KzxMADJ"
      }
    },
    {
      "cell_type": "markdown",
      "source": [
        "# 1. Preparación del Entorno\n",
        "- Asegúrate de tener instalado Pandas en tu entorno de trabajo.\n",
        "- Descarga el archivo vgsales.csv desde Kaggle y colócalo en tu directorio de trabajo."
      ],
      "metadata": {
        "id": "LH4uRNEBML0i"
      }
    },
    {
      "cell_type": "code",
      "source": [
        "import pandas as pd"
      ],
      "metadata": {
        "id": "ZWLrV0CkMvUu"
      },
      "execution_count": 9,
      "outputs": []
    },
    {
      "cell_type": "markdown",
      "source": [
        "# 2. Cargar los Datos\n",
        "- Carga el archivo vgsales.csv en un DataFrame de Pandas.\n",
        "- Muestra las primeras 10 filas del DataFrame para confirmar que los datos se han cargado correctamente."
      ],
      "metadata": {
        "id": "Jna9gCjXNMTR"
      }
    },
    {
      "cell_type": "code",
      "source": [
        "# Cargar datos desde un archivo CSV\n",
        "df = pd.read_csv('/content/vgsales.csv')\n",
        "\n",
        "# Mostrar las primeras 10 filas del DataFrame\n",
        "print(df.head(10))"
      ],
      "metadata": {
        "colab": {
          "base_uri": "https://localhost:8080/"
        },
        "id": "kqE61NiLNV1K",
        "outputId": "8d32a8b1-c2e8-40ae-e68e-219791014d02"
      },
      "execution_count": 10,
      "outputs": [
        {
          "output_type": "stream",
          "name": "stdout",
          "text": [
            "   Rank                       Name Platform    Year         Genre Publisher  \\\n",
            "0     1                 Wii Sports      Wii  2006.0        Sports  Nintendo   \n",
            "1     2          Super Mario Bros.      NES  1985.0      Platform  Nintendo   \n",
            "2     3             Mario Kart Wii      Wii  2008.0        Racing  Nintendo   \n",
            "3     4          Wii Sports Resort      Wii  2009.0        Sports  Nintendo   \n",
            "4     5   Pokemon Red/Pokemon Blue       GB  1996.0  Role-Playing  Nintendo   \n",
            "5     6                     Tetris       GB  1989.0        Puzzle  Nintendo   \n",
            "6     7      New Super Mario Bros.       DS  2006.0      Platform  Nintendo   \n",
            "7     8                   Wii Play      Wii  2006.0          Misc  Nintendo   \n",
            "8     9  New Super Mario Bros. Wii      Wii  2009.0      Platform  Nintendo   \n",
            "9    10                  Duck Hunt      NES  1984.0       Shooter  Nintendo   \n",
            "\n",
            "   NA_Sales  EU_Sales  JP_Sales  Other_Sales  Global_Sales  \n",
            "0     41.49     29.02      3.77         8.46         82.74  \n",
            "1     29.08      3.58      6.81         0.77         40.24  \n",
            "2     15.85     12.88      3.79         3.31         35.82  \n",
            "3     15.75     11.01      3.28         2.96         33.00  \n",
            "4     11.27      8.89     10.22         1.00         31.37  \n",
            "5     23.20      2.26      4.22         0.58         30.26  \n",
            "6     11.38      9.23      6.50         2.90         30.01  \n",
            "7     14.03      9.20      2.93         2.85         29.02  \n",
            "8     14.59      7.06      4.70         2.26         28.62  \n",
            "9     26.93      0.63      0.28         0.47         28.31  \n"
          ]
        }
      ]
    },
    {
      "cell_type": "markdown",
      "source": [
        "# 3. Exploración Inicial de los Datos\n",
        "- Muestra las últimas 5 filas del DataFrame.\n",
        "- Utiliza el método info() para obtener información general sobre el DataFrame, incluyendo el número de entradas, nombres de las columnas, tipos de datos y - - memoria utilizada.\n",
        "- Genera estadísticas descriptivas del DataFrame utilizando el método describe()."
      ],
      "metadata": {
        "id": "HmmJpAh3NZZx"
      }
    },
    {
      "cell_type": "code",
      "execution_count": 11,
      "metadata": {
        "colab": {
          "base_uri": "https://localhost:8080/"
        },
        "id": "PChZWB80xBBe",
        "outputId": "962a659f-6b8e-470c-afe0-56c2fd5e475c"
      },
      "outputs": [
        {
          "output_type": "stream",
          "name": "stdout",
          "text": [
            "Últimas filas del DataFrame:\n",
            "        Rank                                              Name Platform  \\\n",
            "16593  16596                Woody Woodpecker in Crazy Castle 5      GBA   \n",
            "16594  16597                     Men in Black II: Alien Escape       GC   \n",
            "16595  16598  SCORE International Baja 1000: The Official Game      PS2   \n",
            "16596  16599                                        Know How 2       DS   \n",
            "16597  16600                                  Spirits & Spells      GBA   \n",
            "\n",
            "         Year     Genre   Publisher  NA_Sales  EU_Sales  JP_Sales  \\\n",
            "16593  2002.0  Platform       Kemco      0.01      0.00       0.0   \n",
            "16594  2003.0   Shooter  Infogrames      0.01      0.00       0.0   \n",
            "16595  2008.0    Racing  Activision      0.00      0.00       0.0   \n",
            "16596  2010.0    Puzzle    7G//AMES      0.00      0.01       0.0   \n",
            "16597  2003.0  Platform     Wanadoo      0.01      0.00       0.0   \n",
            "\n",
            "       Other_Sales  Global_Sales  \n",
            "16593          0.0          0.01  \n",
            "16594          0.0          0.01  \n",
            "16595          0.0          0.01  \n",
            "16596          0.0          0.01  \n",
            "16597          0.0          0.01  \n",
            "\n",
            "\n",
            "\n",
            "Información del DataFrame:\n",
            "<class 'pandas.core.frame.DataFrame'>\n",
            "RangeIndex: 16598 entries, 0 to 16597\n",
            "Data columns (total 11 columns):\n",
            " #   Column        Non-Null Count  Dtype  \n",
            "---  ------        --------------  -----  \n",
            " 0   Rank          16598 non-null  int64  \n",
            " 1   Name          16598 non-null  object \n",
            " 2   Platform      16598 non-null  object \n",
            " 3   Year          16327 non-null  float64\n",
            " 4   Genre         16598 non-null  object \n",
            " 5   Publisher     16540 non-null  object \n",
            " 6   NA_Sales      16598 non-null  float64\n",
            " 7   EU_Sales      16598 non-null  float64\n",
            " 8   JP_Sales      16598 non-null  float64\n",
            " 9   Other_Sales   16598 non-null  float64\n",
            " 10  Global_Sales  16598 non-null  float64\n",
            "dtypes: float64(6), int64(1), object(4)\n",
            "memory usage: 1.4+ MB\n",
            "None\n",
            "\n",
            "\n",
            "\n",
            "Estadísticas descriptivas del DataFrame:\n",
            "               Rank          Year      NA_Sales      EU_Sales      JP_Sales  \\\n",
            "count  16598.000000  16327.000000  16598.000000  16598.000000  16598.000000   \n",
            "mean    8300.605254   2006.406443      0.264667      0.146652      0.077782   \n",
            "std     4791.853933      5.828981      0.816683      0.505351      0.309291   \n",
            "min        1.000000   1980.000000      0.000000      0.000000      0.000000   \n",
            "25%     4151.250000   2003.000000      0.000000      0.000000      0.000000   \n",
            "50%     8300.500000   2007.000000      0.080000      0.020000      0.000000   \n",
            "75%    12449.750000   2010.000000      0.240000      0.110000      0.040000   \n",
            "max    16600.000000   2020.000000     41.490000     29.020000     10.220000   \n",
            "\n",
            "        Other_Sales  Global_Sales  \n",
            "count  16598.000000  16598.000000  \n",
            "mean       0.048063      0.537441  \n",
            "std        0.188588      1.555028  \n",
            "min        0.000000      0.010000  \n",
            "25%        0.000000      0.060000  \n",
            "50%        0.010000      0.170000  \n",
            "75%        0.040000      0.470000  \n",
            "max       10.570000     82.740000  \n"
          ]
        }
      ],
      "source": [
        "# Mostrar las últimas 5 filas del DataFrame\n",
        "print(\"Últimas filas del DataFrame:\")\n",
        "print(df.tail(5))\n",
        "\n",
        "# Obtener información general sobre el DataFrame\n",
        "print(\"\\n\\n\\nInformación del DataFrame:\")\n",
        "print(df.info())\n",
        "\n",
        "# Generar estadísticas descriptivas\n",
        "print(\"\\n\\n\\nEstadísticas descriptivas del DataFrame:\")\n",
        "print(df.describe())\n"
      ]
    },
    {
      "cell_type": "markdown",
      "source": [
        "## Análisis\n",
        "\n",
        "1. Hay 16598 entradas o datos, con índices de 0 to 16597\n",
        "2. Columnas como \"Year\" y \"Publisher\" tiene datos nulos\n",
        "3. Hay 1 columna tipo int (\"Rank\"), 4 columnas tipo object y 6 columnas son tipo float64\n",
        "4. Al ser Ventas en millones de dólares, en Norte América, Europa, Japón y Otros, no es posible ver algún tipo de \"tendencia\" ya que todos los años están juntos, toda la información está \"revuelta\""
      ],
      "metadata": {
        "id": "D4ziquSvN-8l"
      }
    },
    {
      "cell_type": "markdown",
      "source": [
        "# 4. Inspección de los Datos\n",
        "- Inspecciona los tipos de datos de cada columna utilizando el atributo dtypes.\n",
        "- Cuenta los valores únicos en la columna Genre utilizando el método value_counts().\n",
        "- Muestra todos los valores únicos en la columna Platform utilizando el método unique()."
      ],
      "metadata": {
        "id": "l7gyna9FP0MD"
      }
    },
    {
      "cell_type": "code",
      "source": [
        "# Inspeccionar los tipos de datos de las columnas\n",
        "print(\"Tipos de datos de las columnas:\")\n",
        "print(df.dtypes)\n",
        "\n",
        "# Contar valores únicos en una columna Genre\n",
        "print(\"\\n\\nConteo de valores únicos en la columna 'Genre':\")\n",
        "print(df['Genre'].value_counts())\n",
        "\n",
        "# Obtener valores únicos en una columna Platform\n",
        "print(\"\\n\\n\\nValores únicos en la columna 'Platform':\")\n",
        "print(df['Platform'].unique())\n",
        "\n",
        "# Me pareció más organizado verlo hacía abajo\n",
        "print(\"\\nValores únicos en la columna 'Platform' (ordenados alfabéticamente):\")\n",
        "print(pd.Series(sorted(df['Platform'].unique())))"
      ],
      "metadata": {
        "colab": {
          "base_uri": "https://localhost:8080/"
        },
        "id": "n6jX_UDEN-nH",
        "outputId": "4b63cf6b-b7b5-4408-a615-4a677a8ee180"
      },
      "execution_count": 20,
      "outputs": [
        {
          "output_type": "stream",
          "name": "stdout",
          "text": [
            "Tipos de datos de las columnas:\n",
            "Rank              int64\n",
            "Name             object\n",
            "Platform         object\n",
            "Year            float64\n",
            "Genre            object\n",
            "Publisher        object\n",
            "NA_Sales        float64\n",
            "EU_Sales        float64\n",
            "JP_Sales        float64\n",
            "Other_Sales     float64\n",
            "Global_Sales    float64\n",
            "dtype: object\n",
            "\n",
            "\n",
            "Conteo de valores únicos en la columna 'Genre':\n",
            "Genre\n",
            "Action          3316\n",
            "Sports          2346\n",
            "Misc            1739\n",
            "Role-Playing    1488\n",
            "Shooter         1310\n",
            "Adventure       1286\n",
            "Racing          1249\n",
            "Platform         886\n",
            "Simulation       867\n",
            "Fighting         848\n",
            "Strategy         681\n",
            "Puzzle           582\n",
            "Name: count, dtype: int64\n",
            "\n",
            "\n",
            "\n",
            "Valores únicos en la columna 'Platform':\n",
            "['Wii' 'NES' 'GB' 'DS' 'X360' 'PS3' 'PS2' 'SNES' 'GBA' '3DS' 'PS4' 'N64'\n",
            " 'PS' 'XB' 'PC' '2600' 'PSP' 'XOne' 'GC' 'WiiU' 'GEN' 'DC' 'PSV' 'SAT'\n",
            " 'SCD' 'WS' 'NG' 'TG16' '3DO' 'GG' 'PCFX']\n",
            "\n",
            "Valores únicos en la columna 'Platform' (ordenados alfabéticamente):\n",
            "0     2600\n",
            "1      3DO\n",
            "2      3DS\n",
            "3       DC\n",
            "4       DS\n",
            "5       GB\n",
            "6      GBA\n",
            "7       GC\n",
            "8      GEN\n",
            "9       GG\n",
            "10     N64\n",
            "11     NES\n",
            "12      NG\n",
            "13      PC\n",
            "14    PCFX\n",
            "15      PS\n",
            "16     PS2\n",
            "17     PS3\n",
            "18     PS4\n",
            "19     PSP\n",
            "20     PSV\n",
            "21     SAT\n",
            "22     SCD\n",
            "23    SNES\n",
            "24    TG16\n",
            "25      WS\n",
            "26     Wii\n",
            "27    WiiU\n",
            "28    X360\n",
            "29      XB\n",
            "30    XOne\n",
            "dtype: object\n"
          ]
        }
      ]
    },
    {
      "cell_type": "markdown",
      "source": [
        "# 5. Filtrado de Datos\n",
        "- Filtra el DataFrame para mostrar solo las filas donde las ventas en América del Norte (NA_Sales) sean mayores a 1 millón.\n",
        "- Filtra el DataFrame para mostrar solo las filas donde las ventas en Japón (JP_Sales) sean menores a 0.1 millón.\n",
        "- Utilizando el método query(), filtra el DataFrame para mostrar las filas donde el género sea Action y las ventas globales (Global_Sales) sean mayores a 2 millones."
      ],
      "metadata": {
        "id": "hn7i5Cy4M-bS"
      }
    },
    {
      "cell_type": "code",
      "source": [
        "# Filtrar filas donde las ventas son mayores a 1 millón en América del Norte\n",
        "na_sales_more_1m = df[(df['NA_Sales'] > 1)]\n",
        "print(na_sales_more_1m)"
      ],
      "metadata": {
        "colab": {
          "base_uri": "https://localhost:8080/"
        },
        "id": "xjmgoztZN40Z",
        "outputId": "05a4c60b-3742-417b-b8b9-f0ffa4e2c3d3"
      },
      "execution_count": 21,
      "outputs": [
        {
          "output_type": "stream",
          "name": "stdout",
          "text": [
            "      Rank                            Name Platform    Year         Genre  \\\n",
            "0        1                      Wii Sports      Wii  2006.0        Sports   \n",
            "1        2               Super Mario Bros.      NES  1985.0      Platform   \n",
            "2        3                  Mario Kart Wii      Wii  2008.0        Racing   \n",
            "3        4               Wii Sports Resort      Wii  2009.0        Sports   \n",
            "4        5        Pokemon Red/Pokemon Blue       GB  1996.0  Role-Playing   \n",
            "...    ...                             ...      ...     ...           ...   \n",
            "1905  1907                           Joust     2600  1982.0      Platform   \n",
            "1917  1919                NCAA Football 14     X360  2013.0        Sports   \n",
            "1953  1955                       NFL Blitz      N64  1998.0        Sports   \n",
            "1954  1956         NFL Quarterback Club 98      N64  1997.0        Sports   \n",
            "1957  1959  Diablo II: Lord of Destruction       PC  2001.0  Role-Playing   \n",
            "\n",
            "                  Publisher  NA_Sales  EU_Sales  JP_Sales  Other_Sales  \\\n",
            "0                  Nintendo     41.49     29.02      3.77         8.46   \n",
            "1                  Nintendo     29.08      3.58      6.81         0.77   \n",
            "2                  Nintendo     15.85     12.88      3.79         3.31   \n",
            "3                  Nintendo     15.75     11.01      3.28         2.96   \n",
            "4                  Nintendo     11.27      8.89     10.22         1.00   \n",
            "...                     ...       ...       ...       ...          ...   \n",
            "1905                  Atari      1.01      0.06      0.00         0.01   \n",
            "1917        Electronic Arts      1.01      0.00      0.00         0.06   \n",
            "1953           Midway Games      1.02      0.04      0.00         0.01   \n",
            "1954  Acclaim Entertainment      1.01      0.05      0.00         0.01   \n",
            "1957          Vivendi Games      1.03      0.02      0.00         0.00   \n",
            "\n",
            "      Global_Sales  \n",
            "0            82.74  \n",
            "1            40.24  \n",
            "2            35.82  \n",
            "3            33.00  \n",
            "4            31.37  \n",
            "...            ...  \n",
            "1905          1.08  \n",
            "1917          1.07  \n",
            "1953          1.06  \n",
            "1954          1.06  \n",
            "1957          1.06  \n",
            "\n",
            "[895 rows x 11 columns]\n"
          ]
        }
      ]
    },
    {
      "cell_type": "code",
      "source": [
        "# Filtrar filas donde las ventas son mayores a 1 millón en América del Norte\n",
        "jp_sales_lees_0_1m = df[(df['JP_Sales'] < 0.1)]\n",
        "print(jp_sales_lees_0_1m)"
      ],
      "metadata": {
        "colab": {
          "base_uri": "https://localhost:8080/"
        },
        "id": "LxObRF2vV4Cg",
        "outputId": "c3713786-4e6e-4d53-8b9b-e0eb99acb867"
      },
      "execution_count": 23,
      "outputs": [
        {
          "output_type": "stream",
          "name": "stdout",
          "text": [
            "        Rank                                              Name Platform  \\\n",
            "23        24                                Grand Theft Auto V     X360   \n",
            "35        36                        Call of Duty: Black Ops II     X360   \n",
            "36        37                    Call of Duty: Modern Warfare 2     X360   \n",
            "60        61                                      Just Dance 3      Wii   \n",
            "61        62                              Call of Duty: Ghosts     X360   \n",
            "...      ...                                               ...      ...   \n",
            "16593  16596                Woody Woodpecker in Crazy Castle 5      GBA   \n",
            "16594  16597                     Men in Black II: Alien Escape       GC   \n",
            "16595  16598  SCORE International Baja 1000: The Official Game      PS2   \n",
            "16596  16599                                        Know How 2       DS   \n",
            "16597  16600                                  Spirits & Spells      GBA   \n",
            "\n",
            "         Year     Genre             Publisher  NA_Sales  EU_Sales  JP_Sales  \\\n",
            "23     2013.0    Action  Take-Two Interactive      9.63      5.31      0.06   \n",
            "35     2012.0   Shooter            Activision      8.25      4.30      0.07   \n",
            "36     2009.0   Shooter            Activision      8.52      3.63      0.08   \n",
            "60     2011.0      Misc               Ubisoft      6.05      3.15      0.00   \n",
            "61     2013.0   Shooter            Activision      6.72      2.63      0.04   \n",
            "...       ...       ...                   ...       ...       ...       ...   \n",
            "16593  2002.0  Platform                 Kemco      0.01      0.00      0.00   \n",
            "16594  2003.0   Shooter            Infogrames      0.01      0.00      0.00   \n",
            "16595  2008.0    Racing            Activision      0.00      0.00      0.00   \n",
            "16596  2010.0    Puzzle              7G//AMES      0.00      0.01      0.00   \n",
            "16597  2003.0  Platform               Wanadoo      0.01      0.00      0.00   \n",
            "\n",
            "       Other_Sales  Global_Sales  \n",
            "23            1.38         16.38  \n",
            "35            1.12         13.73  \n",
            "36            1.29         13.51  \n",
            "60            1.07         10.26  \n",
            "61            0.82         10.21  \n",
            "...            ...           ...  \n",
            "16593         0.00          0.01  \n",
            "16594         0.00          0.01  \n",
            "16595         0.00          0.01  \n",
            "16596         0.00          0.01  \n",
            "16597         0.00          0.01  \n",
            "\n",
            "[14021 rows x 11 columns]\n"
          ]
        }
      ]
    },
    {
      "cell_type": "code",
      "source": [
        "# Filtrar filas utilizando el método query género Action\n",
        "query_genre_action_global_more_2m = df.query(\"Genre == 'Action' & Global_Sales > 2\")\n",
        "print(query_genre_action_global_more_2m)"
      ],
      "metadata": {
        "colab": {
          "base_uri": "https://localhost:8080/"
        },
        "id": "KrgBTakNWuYZ",
        "outputId": "ca242517-7fe9-4529-e92e-6b504240ed79"
      },
      "execution_count": 31,
      "outputs": [
        {
          "output_type": "stream",
          "name": "stdout",
          "text": [
            "     Rank                                               Name Platform    Year  \\\n",
            "16     17                                 Grand Theft Auto V      PS3  2013.0   \n",
            "17     18                      Grand Theft Auto: San Andreas      PS2  2004.0   \n",
            "23     24                                 Grand Theft Auto V     X360  2013.0   \n",
            "24     25                        Grand Theft Auto: Vice City      PS2  2002.0   \n",
            "38     39                               Grand Theft Auto III      PS2  2001.0   \n",
            "..    ...                                                ...      ...     ...   \n",
            "815   817             Tom Clancy's Splinter Cell: Conviction     X360  2010.0   \n",
            "817   819                                    The Incredibles      GBA  2004.0   \n",
            "833   835  Peter Jackson's King Kong: The Official Game o...      PS2  2005.0   \n",
            "835   837                            Need for Speed: The Run      PS3  2011.0   \n",
            "840   842                                         Dead Space      PS3  2008.0   \n",
            "\n",
            "      Genre             Publisher  NA_Sales  EU_Sales  JP_Sales  Other_Sales  \\\n",
            "16   Action  Take-Two Interactive      7.01      9.27      0.97         4.14   \n",
            "17   Action  Take-Two Interactive      9.43      0.40      0.41        10.57   \n",
            "23   Action  Take-Two Interactive      9.63      5.31      0.06         1.38   \n",
            "24   Action  Take-Two Interactive      8.41      5.49      0.47         1.78   \n",
            "38   Action  Take-Two Interactive      6.99      4.51      0.30         1.30   \n",
            "..      ...                   ...       ...       ...       ...          ...   \n",
            "815  Action               Ubisoft      1.20      0.63      0.04         0.19   \n",
            "817  Action                   THQ      1.15      0.77      0.04         0.10   \n",
            "833  Action               Ubisoft      0.71      1.02      0.00         0.31   \n",
            "835  Action       Electronic Arts      0.58      1.06      0.03         0.37   \n",
            "840  Action       Electronic Arts      1.05      0.67      0.00         0.30   \n",
            "\n",
            "     Global_Sales  \n",
            "16          21.40  \n",
            "17          20.81  \n",
            "23          16.38  \n",
            "24          16.15  \n",
            "38          13.10  \n",
            "..            ...  \n",
            "815          2.06  \n",
            "817          2.06  \n",
            "833          2.04  \n",
            "835          2.04  \n",
            "840          2.02  \n",
            "\n",
            "[175 rows x 11 columns]\n"
          ]
        }
      ]
    },
    {
      "cell_type": "markdown",
      "source": [
        "## Análisis\n",
        "1. Filas donde las ventas son mayores a 1 millón en América del Norte [***895*** rows x 11 columns] de [***16598*** rows x 11 columns]\n",
        "2. Filas donde las ventas son menores a 0.1 millón en Japón [***14021*** rows x 11 columns] de [***16598*** rows x 11 columns]\n",
        "3. Filas donde el género Acción tuvo ventas globales mayores a 2 millones [***175*** rows x 11 columns] de [***16598*** rows x 11 columns]\n"
      ],
      "metadata": {
        "id": "jk7FiMubWOyR"
      }
    },
    {
      "cell_type": "markdown",
      "source": [
        "# 6. Slicing de Datos\n",
        "- Selecciona y muestra solo las columnas Name y Global_Sales del DataFrame.\n",
        "- Utilizando loc[], selecciona y muestra las filas de la 5 a la 10 (inclusive) y las columnas Name y Genre.\n",
        "- Utilizando iloc[], selecciona y muestra las primeras 5 filas y las primeras 3 columnas del DataFrame."
      ],
      "metadata": {
        "id": "tapZU-SGYdPs"
      }
    },
    {
      "cell_type": "code",
      "source": [
        "# Seleccionar columnas por nombre y ventas globales\n",
        "name_global_sales = df[['Name', 'Global_Sales']]\n",
        "print(name_global_sales)\n",
        "\n",
        "# Seleccionar filas y columnas específicas con loc\n",
        "loc_result = df.loc[4:9, ['Name', 'Genre']]\n",
        "print(\"\\n\\n\")\n",
        "print(loc_result)\n",
        "# Al contar la fila con índice 0 como la primera fila, se debe entonces bajar un índice, de [5:10] a [4:9]\n",
        "\n",
        "# Seleccionar filas y columnas específicas con iloc\n",
        "iloc_result = df.iloc[:5, :3]\n",
        "print(\"\\n\\n\")\n",
        "print(iloc_result)"
      ],
      "metadata": {
        "colab": {
          "base_uri": "https://localhost:8080/"
        },
        "id": "FofdSuWVYAbF",
        "outputId": "4befde6f-ff42-402a-d5f3-d117229795e2"
      },
      "execution_count": 36,
      "outputs": [
        {
          "output_type": "stream",
          "name": "stdout",
          "text": [
            "                                                   Name  Global_Sales\n",
            "0                                            Wii Sports         82.74\n",
            "1                                     Super Mario Bros.         40.24\n",
            "2                                        Mario Kart Wii         35.82\n",
            "3                                     Wii Sports Resort         33.00\n",
            "4                              Pokemon Red/Pokemon Blue         31.37\n",
            "...                                                 ...           ...\n",
            "16593                Woody Woodpecker in Crazy Castle 5          0.01\n",
            "16594                     Men in Black II: Alien Escape          0.01\n",
            "16595  SCORE International Baja 1000: The Official Game          0.01\n",
            "16596                                        Know How 2          0.01\n",
            "16597                                  Spirits & Spells          0.01\n",
            "\n",
            "[16598 rows x 2 columns]\n",
            "\n",
            "\n",
            "\n",
            "                        Name         Genre\n",
            "4   Pokemon Red/Pokemon Blue  Role-Playing\n",
            "5                     Tetris        Puzzle\n",
            "6      New Super Mario Bros.      Platform\n",
            "7                   Wii Play          Misc\n",
            "8  New Super Mario Bros. Wii      Platform\n",
            "9                  Duck Hunt       Shooter\n",
            "\n",
            "\n",
            "\n",
            "   Rank                      Name Platform\n",
            "0     1                Wii Sports      Wii\n",
            "1     2         Super Mario Bros.      NES\n",
            "2     3            Mario Kart Wii      Wii\n",
            "3     4         Wii Sports Resort      Wii\n",
            "4     5  Pokemon Red/Pokemon Blue       GB\n"
          ]
        }
      ]
    },
    {
      "cell_type": "code",
      "source": [],
      "metadata": {
        "id": "C1RKsRQdY_Yk"
      },
      "execution_count": null,
      "outputs": []
    }
  ]
}