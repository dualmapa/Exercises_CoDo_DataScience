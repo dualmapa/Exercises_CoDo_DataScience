{
  "nbformat": 4,
  "nbformat_minor": 0,
  "metadata": {
    "colab": {
      "provenance": [],
      "toc_visible": true
    },
    "kernelspec": {
      "name": "python3",
      "display_name": "Python 3"
    },
    "language_info": {
      "name": "python"
    }
  },
  "cells": [
    {
      "cell_type": "markdown",
      "source": [
        "# Proyecto I- Parte 2 (Core)\n",
        "\n",
        "**Análisis y Predicción de Ventas en una Tienda de Retail**\n",
        "\n"
      ],
      "metadata": {
        "id": "4m_xE3CHc9ki"
      }
    },
    {
      "cell_type": "markdown",
      "source": [
        "## 1. Preparación del Entorno\n",
        "- Asegúrate de tener instalado Pandas en tu entorno de trabajo.\n",
        "- Utiliza el archivo retail_sales.csv del proyecto inicial. Si aún no lo tienes, descarga el archivo correspondiente."
      ],
      "metadata": {
        "id": "I5-OuPuLdeAH"
      }
    },
    {
      "cell_type": "code",
      "execution_count": 33,
      "metadata": {
        "id": "WpSg_4sfc4DW"
      },
      "outputs": [],
      "source": [
        "import pandas as pd\n",
        "\n",
        "df = pd.read_csv('/content/retail_sales_dataset.csv')"
      ]
    },
    {
      "cell_type": "markdown",
      "source": [
        "## 2. Cargar los Datos\n",
        "- Carga el archivo retail_sales.csv en un DataFrame de Pandas.\n",
        "- Muestra las primeras 10 filas del DataFrame para confirmar que los datos se han cargado correctamente."
      ],
      "metadata": {
        "id": "r2zBulxcdhyw"
      }
    },
    {
      "cell_type": "code",
      "source": [
        "print(df.head(10))"
      ],
      "metadata": {
        "colab": {
          "base_uri": "https://localhost:8080/"
        },
        "id": "DVZ8e95fdhOL",
        "outputId": "1ee26ded-7cfb-4a45-e513-ec4d14340684"
      },
      "execution_count": 34,
      "outputs": [
        {
          "output_type": "stream",
          "name": "stdout",
          "text": [
            "   Transaction ID        Date Customer ID  Gender  Age Product Category  \\\n",
            "0               1  2023-11-24     CUST001    Male   34           Beauty   \n",
            "1               2  2023-02-27     CUST002  Female   26         Clothing   \n",
            "2               3  2023-01-13     CUST003    Male   50      Electronics   \n",
            "3               4  2023-05-21     CUST004    Male   37         Clothing   \n",
            "4               5  2023-05-06     CUST005    Male   30           Beauty   \n",
            "5               6  2023-04-25     CUST006  Female   45           Beauty   \n",
            "6               7  2023-03-13     CUST007    Male   46         Clothing   \n",
            "7               8  2023-02-22     CUST008    Male   30      Electronics   \n",
            "8               9  2023-12-13     CUST009    Male   63      Electronics   \n",
            "9              10  2023-10-07     CUST010  Female   52         Clothing   \n",
            "\n",
            "   Quantity  Price per Unit  Total Amount  \n",
            "0         3              50           150  \n",
            "1         2             500          1000  \n",
            "2         1              30            30  \n",
            "3         1             500           500  \n",
            "4         2              50           100  \n",
            "5         1              30            30  \n",
            "6         2              25            50  \n",
            "7         4              25           100  \n",
            "8         2             300           600  \n",
            "9         4              50           200  \n"
          ]
        }
      ]
    },
    {
      "cell_type": "markdown",
      "source": [
        "## 3. Exploración Inicial de los Datos\n",
        "- Muestra las últimas 5 filas del DataFrame.\n",
        "- Utiliza el método info() para obtener información general sobre el DataFrame, incluyendo el número de entradas, nombres de las columnas, tipos de datos y memoria utilizada.\n",
        "- Genera estadísticas descriptivas del DataFrame utilizando el método describe()."
      ],
      "metadata": {
        "id": "rzfi7I761NsO"
      }
    },
    {
      "cell_type": "code",
      "source": [
        "print(df.tail(5))\n",
        "\n",
        "print(\"\\n\\nInformación del DataFrame:\")\n",
        "print(df.info())\n",
        "\n",
        "print(\"\\n\\nEstadísticas descriptivas para variables numéricas:\")\n",
        "print(df.describe())"
      ],
      "metadata": {
        "colab": {
          "base_uri": "https://localhost:8080/"
        },
        "id": "LHeLtiCM1Edv",
        "outputId": "409f2ea2-1634-4e87-fd88-679121683516"
      },
      "execution_count": 35,
      "outputs": [
        {
          "output_type": "stream",
          "name": "stdout",
          "text": [
            "     Transaction ID        Date Customer ID  Gender  Age Product Category  \\\n",
            "995             996  2023-05-16     CUST996    Male   62         Clothing   \n",
            "996             997  2023-11-17     CUST997    Male   52           Beauty   \n",
            "997             998  2023-10-29     CUST998  Female   23           Beauty   \n",
            "998             999  2023-12-05     CUST999  Female   36      Electronics   \n",
            "999            1000  2023-04-12    CUST1000    Male   47      Electronics   \n",
            "\n",
            "     Quantity  Price per Unit  Total Amount  \n",
            "995         1              50            50  \n",
            "996         3              30            90  \n",
            "997         4              25           100  \n",
            "998         3              50           150  \n",
            "999         4              30           120  \n",
            "\n",
            "\n",
            "Información del DataFrame:\n",
            "<class 'pandas.core.frame.DataFrame'>\n",
            "RangeIndex: 1000 entries, 0 to 999\n",
            "Data columns (total 9 columns):\n",
            " #   Column            Non-Null Count  Dtype \n",
            "---  ------            --------------  ----- \n",
            " 0   Transaction ID    1000 non-null   int64 \n",
            " 1   Date              1000 non-null   object\n",
            " 2   Customer ID       1000 non-null   object\n",
            " 3   Gender            1000 non-null   object\n",
            " 4   Age               1000 non-null   int64 \n",
            " 5   Product Category  1000 non-null   object\n",
            " 6   Quantity          1000 non-null   int64 \n",
            " 7   Price per Unit    1000 non-null   int64 \n",
            " 8   Total Amount      1000 non-null   int64 \n",
            "dtypes: int64(5), object(4)\n",
            "memory usage: 70.4+ KB\n",
            "None\n",
            "\n",
            "\n",
            "Estadísticas descriptivas para variables numéricas:\n",
            "       Transaction ID         Age     Quantity  Price per Unit  Total Amount\n",
            "count     1000.000000  1000.00000  1000.000000     1000.000000   1000.000000\n",
            "mean       500.500000    41.39200     2.514000      179.890000    456.000000\n",
            "std        288.819436    13.68143     1.132734      189.681356    559.997632\n",
            "min          1.000000    18.00000     1.000000       25.000000     25.000000\n",
            "25%        250.750000    29.00000     1.000000       30.000000     60.000000\n",
            "50%        500.500000    42.00000     3.000000       50.000000    135.000000\n",
            "75%        750.250000    53.00000     4.000000      300.000000    900.000000\n",
            "max       1000.000000    64.00000     4.000000      500.000000   2000.000000\n"
          ]
        }
      ]
    },
    {
      "cell_type": "markdown",
      "source": [
        "## 4. Inspección de los Datos\n",
        "- Inspecciona los tipos de datos de cada columna utilizando el atributo dtypes.\n",
        "- Cuenta los valores únicos en la columna Producto utilizando el método value_counts().\n",
        "- Muestra todos los valores únicos en la columna Tienda utilizando el método unique().\n"
      ],
      "metadata": {
        "id": "906MyP3D2wzZ"
      }
    },
    {
      "cell_type": "code",
      "source": [
        "print(df.dtypes)\n",
        "\n",
        "print(\"\\n\\nValores únicos en la columna Producto:\")\n",
        "print(df['Product Category'].value_counts())\n",
        "\n",
        "#print(\"\\n\\nValores únicos en la columna Tienda:\")\n",
        "#print(df['Tienda'].unique())\n",
        "print(\"\\n\\nGENERÉ EL CÓDIGO PARA VER LOS VALORES ÚNICOS DE LA COLUMNA TIENDA CON unique(), PERO EN EL csv NO VI ESTA COLUMNA, ASÍ QUE LO REALICÉ CON OTRAS COLUMNA\")\n",
        "\n",
        "print(\"\\n\\nValores únicos en la columna Age organizados de manera ascendente:\")\n",
        "print(sorted(df['Age'].unique()))\n",
        "\n",
        "print(\"\\n\\nValores únicos en la columna Quantity organizados de manera ascendente:\")\n",
        "print(sorted(df['Quantity'].unique()))\n",
        "\n",
        "print(\"\\n\\nValores únicos en la columna Price per Unit organizados de manera ascendente:\")\n",
        "print(sorted(df['Price per Unit'].unique()))"
      ],
      "metadata": {
        "colab": {
          "base_uri": "https://localhost:8080/"
        },
        "id": "lYpaiq902Z3d",
        "outputId": "6db0e047-4aed-4490-d90e-54be063d962b"
      },
      "execution_count": 36,
      "outputs": [
        {
          "output_type": "stream",
          "name": "stdout",
          "text": [
            "Transaction ID       int64\n",
            "Date                object\n",
            "Customer ID         object\n",
            "Gender              object\n",
            "Age                  int64\n",
            "Product Category    object\n",
            "Quantity             int64\n",
            "Price per Unit       int64\n",
            "Total Amount         int64\n",
            "dtype: object\n",
            "\n",
            "\n",
            "Valores únicos en la columna Producto:\n",
            "Product Category\n",
            "Clothing       351\n",
            "Electronics    342\n",
            "Beauty         307\n",
            "Name: count, dtype: int64\n",
            "\n",
            "\n",
            "GENERÉ EL CÓDIGO PARA VER LOS VALORES ÚNICOS DE LA COLUMNA TIENDA CON unique(), PERO EN EL csv NO VI ESTA COLUMNA, ASÍ QUE LO REALICÉ CON OTRAS COLUMNA\n",
            "\n",
            "\n",
            "Valores únicos en la columna Age organizados de manera ascendente:\n",
            "[18, 19, 20, 21, 22, 23, 24, 25, 26, 27, 28, 29, 30, 31, 32, 33, 34, 35, 36, 37, 38, 39, 40, 41, 42, 43, 44, 45, 46, 47, 48, 49, 50, 51, 52, 53, 54, 55, 56, 57, 58, 59, 60, 61, 62, 63, 64]\n",
            "\n",
            "\n",
            "Valores únicos en la columna Quantity organizados de manera ascendente:\n",
            "[1, 2, 3, 4]\n",
            "\n",
            "\n",
            "Valores únicos en la columna Price per Unit organizados de manera ascendente:\n",
            "[25, 30, 50, 300, 500]\n"
          ]
        }
      ]
    },
    {
      "cell_type": "markdown",
      "source": [
        "## 5. Filtrado de Datos\n",
        "- Filtra el DataFrame para mostrar solo las filas donde las ventas (Ventas) sean mayores a 50.\n",
        "- Filtra el DataFrame para mostrar solo las filas donde el precio (Precio) sea menor a 0.5.\n",
        "- Utilizando el método query(), filtra el DataFrame para mostrar las filas donde el producto sea Manzanas y las ventas sean mayores a 30."
      ],
      "metadata": {
        "id": "YU25BRxS6E18"
      }
    },
    {
      "cell_type": "code",
      "source": [
        "ventas_mayores_50 = df[df['Total Amount'] > 50]\n",
        "print(ventas_mayores_50)\n",
        "\n",
        "precio_menor_05 = df[df['Price per Unit'] < 0.5]\n",
        "print(\"\\n\\n\")\n",
        "print(precio_menor_05)\n",
        "\n",
        "query_manzanas_ventas_mayores_30 = df.query(\"`Product Category` == 'Manzana' and `Total Amount` > 30\")\n",
        "print(\"\\n\\n\")\n",
        "print(query_manzanas_ventas_mayores_30)"
      ],
      "metadata": {
        "colab": {
          "base_uri": "https://localhost:8080/"
        },
        "id": "oz2GgLsf3n6l",
        "outputId": "51d1547f-0921-4267-8156-1b31b17bffb4"
      },
      "execution_count": 43,
      "outputs": [
        {
          "output_type": "stream",
          "name": "stdout",
          "text": [
            "     Transaction ID        Date Customer ID  Gender  Age Product Category  \\\n",
            "0                 1  2023-11-24     CUST001    Male   34           Beauty   \n",
            "1                 2  2023-02-27     CUST002  Female   26         Clothing   \n",
            "3                 4  2023-05-21     CUST004    Male   37         Clothing   \n",
            "4                 5  2023-05-06     CUST005    Male   30           Beauty   \n",
            "7                 8  2023-02-22     CUST008    Male   30      Electronics   \n",
            "..              ...         ...         ...     ...  ...              ...   \n",
            "993             994  2023-12-18     CUST994  Female   51           Beauty   \n",
            "996             997  2023-11-17     CUST997    Male   52           Beauty   \n",
            "997             998  2023-10-29     CUST998  Female   23           Beauty   \n",
            "998             999  2023-12-05     CUST999  Female   36      Electronics   \n",
            "999            1000  2023-04-12    CUST1000    Male   47      Electronics   \n",
            "\n",
            "     Quantity  Price per Unit  Total Amount  \n",
            "0           3              50           150  \n",
            "1           2             500          1000  \n",
            "3           1             500           500  \n",
            "4           2              50           100  \n",
            "7           4              25           100  \n",
            "..        ...             ...           ...  \n",
            "993         2             500          1000  \n",
            "996         3              30            90  \n",
            "997         4              25           100  \n",
            "998         3              50           150  \n",
            "999         4              30           120  \n",
            "\n",
            "[783 rows x 9 columns]\n",
            "\n",
            "\n",
            "\n",
            "Empty DataFrame\n",
            "Columns: [Transaction ID, Date, Customer ID, Gender, Age, Product Category, Quantity, Price per Unit, Total Amount]\n",
            "Index: []\n",
            "\n",
            "\n",
            "\n",
            "Empty DataFrame\n",
            "Columns: [Transaction ID, Date, Customer ID, Gender, Age, Product Category, Quantity, Price per Unit, Total Amount]\n",
            "Index: []\n"
          ]
        }
      ]
    },
    {
      "cell_type": "markdown",
      "source": [
        "### Análisis\n",
        "1. De 1000 filas 783 tienen ventas totales mayores a 50\n",
        "2. No existen filas con precio por debajo de 0.5 (¿Es esto posible?)\n",
        "3. En el DataFrame utilizado, tampoco existe el producto \"Manzana\", por lo que supongo no es posible realizar dicha query si no existe, por ello da un resultado vacío\n"
      ],
      "metadata": {
        "id": "ffdYpEO-7Uv2"
      }
    },
    {
      "cell_type": "markdown",
      "source": [
        "6. Slicing de Datos\n",
        "- Selecciona y muestra solo las columnas Producto y Ventas del DataFrame.\n",
        "- Utilizando loc[], selecciona y muestra las filas de la 5 a la 10 (inclusive) y las columnas Producto y Tienda.\n",
        "- Utilizando iloc[], selecciona y muestra las primeras 5 filas y las primeras 3 columnas del DataFrame."
      ],
      "metadata": {
        "id": "HlaGC4NS9fvd"
      }
    },
    {
      "cell_type": "code",
      "source": [
        "# Seleccionar columnas por Producto y Ventas\n",
        "producto_ventas_columnas = df[['Product Category', 'Total Amount']]\n",
        "print(producto_ventas_columnas)\n",
        "\n",
        "# Seleccionar filas y columnas específicas con loc\n",
        "loc_result = df.loc[4:9, ['Product Category', 'Total Amount']]\n",
        "print(\"\\n\\n\")\n",
        "print(loc_result)\n",
        "# Al contar la fila con índice 0 como la primera fila, se debe entonces bajar un índice, de [5:10] a [4:9]\n",
        "\n",
        "# Seleccionar filas y columnas específicas con iloc\n",
        "iloc_result = df.iloc[:5, :3]\n",
        "print(\"\\n\\n\")\n",
        "print(iloc_result)"
      ],
      "metadata": {
        "colab": {
          "base_uri": "https://localhost:8080/"
        },
        "id": "UIxa6_vT7Hsk",
        "outputId": "97301e5b-3980-444c-e0a5-974b736b252d"
      },
      "execution_count": 45,
      "outputs": [
        {
          "output_type": "stream",
          "name": "stdout",
          "text": [
            "    Product Category  Total Amount\n",
            "0             Beauty           150\n",
            "1           Clothing          1000\n",
            "2        Electronics            30\n",
            "3           Clothing           500\n",
            "4             Beauty           100\n",
            "..               ...           ...\n",
            "995         Clothing            50\n",
            "996           Beauty            90\n",
            "997           Beauty           100\n",
            "998      Electronics           150\n",
            "999      Electronics           120\n",
            "\n",
            "[1000 rows x 2 columns]\n",
            "\n",
            "\n",
            "\n",
            "  Product Category  Total Amount\n",
            "4           Beauty           100\n",
            "5           Beauty            30\n",
            "6         Clothing            50\n",
            "7      Electronics           100\n",
            "8      Electronics           600\n",
            "9         Clothing           200\n",
            "\n",
            "\n",
            "\n",
            "   Transaction ID        Date Customer ID\n",
            "0               1  2023-11-24     CUST001\n",
            "1               2  2023-02-27     CUST002\n",
            "2               3  2023-01-13     CUST003\n",
            "3               4  2023-05-21     CUST004\n",
            "4               5  2023-05-06     CUST005\n"
          ]
        }
      ]
    },
    {
      "cell_type": "markdown",
      "source": [
        "# **Observaciones**\n",
        "- Revisar si Existe la columna tienda\n",
        "\n",
        "- Revisar si hay precios por debajo de 0.5; al ver los Valores únicos en la columna Price per Unit no existe algún valor relacionado o menor a 25 (que es el mínimo)\n",
        "\n",
        "- Revisar que no existen \"Manzana\" como producto en el df utilizado\n",
        "\n",
        "\n",
        "\n"
      ],
      "metadata": {
        "id": "aayS9Pkl7vVS"
      }
    },
    {
      "cell_type": "code",
      "source": [],
      "metadata": {
        "id": "vsXUu07Z9ebI"
      },
      "execution_count": null,
      "outputs": []
    }
  ]
}