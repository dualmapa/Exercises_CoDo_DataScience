{
  "nbformat": 4,
  "nbformat_minor": 0,
  "metadata": {
    "colab": {
      "provenance": [],
      "toc_visible": true
    },
    "kernelspec": {
      "name": "python3",
      "display_name": "Python 3"
    },
    "language_info": {
      "name": "python"
    }
  },
  "cells": [
    {
      "cell_type": "markdown",
      "source": [
        "# **Contexto:**\n",
        "\n",
        "La tarea es limpiar y explorar los datos para una compañía de tecnología emergente que desarrolla aplicaciones móviles. La empresa quiere mejorar la experiencia del usuario y aumentar la retención de usuarios en sus aplicaciones. Han recolectado datos sobre el uso de sus aplicaciones y quieren entender mejor cómo los usuarios interactúan con sus productos."
      ],
      "metadata": {
        "id": "xFHz6V-Zl5HZ"
      }
    },
    {
      "cell_type": "markdown",
      "source": [
        "# Requisitos:\n",
        "\n",
        "1. Limpieza de Datos.\n",
        "\n",
        "2. Exploración de Datos.\n",
        "\n",
        "- Diccionario de Datos:\n",
        "    * user_id: Identificación única del usuario.\n",
        "    * app_version: Versión de la aplicación usada.\n",
        "    * platform: Plataforma del dispositivo (Android, iOS).\n",
        "    * session_duration: Duración de la sesión en minutos.\n",
        "    * number_of_sessions: Número de sesiones en un día.\n",
        "    * country: País del usuario.\n",
        "    * user_feedback: Puntuación de la experiencia del usuario (1-5).\n"
      ],
      "metadata": {
        "id": "D5CdbEgQl83u"
      }
    },
    {
      "cell_type": "markdown",
      "source": [
        "## *Codigo para generar los datos*\n"
      ],
      "metadata": {
        "id": "g0f_x2KAmawc"
      }
    },
    {
      "cell_type": "code",
      "source": [
        "import pandas as pd\n",
        "import numpy as np\n",
        "import random\n",
        "\n",
        "# Configuramos la semilla para reproducibilidad\n",
        "np.random.seed(42)\n",
        "\n",
        "# Generamos los datos sintéticos\n",
        "user_id = range(1, 301)\n",
        "app_version = np.random.choice(['1.0', '1.1', '1.2', '1.3'], 300)\n",
        "platform = np.random.choice(['Android', 'iOS'], 300)\n",
        "session_duration = np.random.randint(1, 180, 300)\n",
        "number_of_sessions = np.random.randint(1, 20, 300)\n",
        "country = np.random.choice(['USA', 'Canada', 'Mexico', 'UK', 'Germany', 'France', 'Spain', 'Italy'], 300)\n",
        "user_feedback = np.random.randint(1, 6, 300)\n",
        "\n",
        "# Creamos el DataFrame\n",
        "data = pd.DataFrame({\n",
        "    'user_id': user_id,\n",
        "    'app_version': app_version,\n",
        "    'platform': platform,\n",
        "    'session_duration': session_duration,\n",
        "    'number_of_sessions': number_of_sessions,\n",
        "    'country': country,\n",
        "    'user_feedback': user_feedback\n",
        "})\n",
        "\n",
        "# Guardamos los datos en un archivo CSV\n",
        "data.to_csv('user_app_data.csv', index=False)\n",
        "print(\"Datos generados y guardados en 'user_app_data.csv'\")"
      ],
      "metadata": {
        "colab": {
          "base_uri": "https://localhost:8080/"
        },
        "id": "PKb_wrV-maOQ",
        "outputId": "3be48ea4-ff10-44cb-c7c3-f8a44ef3dcc9"
      },
      "execution_count": 42,
      "outputs": [
        {
          "output_type": "stream",
          "name": "stdout",
          "text": [
            "Datos generados y guardados en 'user_app_data.csv'\n"
          ]
        }
      ]
    },
    {
      "cell_type": "markdown",
      "source": [
        "*Todo lo anterior corresponde puntualmente a lo planteado en el ejercicio*"
      ],
      "metadata": {
        "id": "XQEECQ4BmwW4"
      }
    },
    {
      "cell_type": "code",
      "execution_count": 43,
      "metadata": {
        "colab": {
          "base_uri": "https://localhost:8080/"
        },
        "id": "7ngdMmMoIO_I",
        "outputId": "8a0fe75e-bcd7-4f1f-8e00-46ca674f6669"
      },
      "outputs": [
        {
          "output_type": "stream",
          "name": "stdout",
          "text": [
            "   user_id  app_version platform  session_duration  number_of_sessions  \\\n",
            "0        1          1.2  Android               109                  11   \n",
            "1        2          1.3  Android               116                  17   \n",
            "2        3          1.0  Android                94                  13   \n",
            "3        4          1.2      iOS                47                   1   \n",
            "4        5          1.2      iOS                99                   2   \n",
            "5        6          1.3  Android                55                   9   \n",
            "6        7          1.0      iOS               168                   3   \n",
            "7        8          1.0      iOS                52                   1   \n",
            "8        9          1.2      iOS               144                  16   \n",
            "9       10          1.1      iOS                13                   6   \n",
            "\n",
            "   country  user_feedback  \n",
            "0   France              1  \n",
            "1       UK              2  \n",
            "2   France              5  \n",
            "3   Canada              4  \n",
            "4   Canada              3  \n",
            "5  Germany              4  \n",
            "6   Mexico              2  \n",
            "7   Canada              4  \n",
            "8      USA              1  \n",
            "9   France              2  \n"
          ]
        }
      ],
      "source": [
        "# Cargar datos desde un archivo CSV\n",
        "df = pd.read_csv('/content/user_app_data.csv')\n",
        "\n",
        "# Mostrar las primeras 10 filas del DataFrame\n",
        "print(df.head(10))"
      ]
    },
    {
      "cell_type": "markdown",
      "source": [
        "# **1) Limpieza de Datos:**\n",
        "\n",
        "El primer paso en este proceso es usar Python para limpiar los datos y dejarlos listos para el análisis. Deben:\n"
      ],
      "metadata": {
        "id": "wHnBxg_Um1VG"
      }
    },
    {
      "cell_type": "markdown",
      "source": [
        "\n",
        "## a) Identificar y abordar cualquier valor duplicado.\n"
      ],
      "metadata": {
        "id": "mzsgEpFGnAy5"
      }
    },
    {
      "cell_type": "code",
      "source": [
        "# Consultar si hay duplicados, cuántos\n",
        "print(\"a. ¿Hay duplicados en el DataFrame?\")\n",
        "print(df.duplicated().any())\n",
        "print(\"\\nb. ¿Cuántos duplicados hay en el DataFrame?\")\n",
        "print(df.duplicated().sum())\n",
        "\n",
        "# Eliminar duplicados\n",
        "# df = df.drop_duplicates()\n",
        "# lo dejo como código comentado, ya que no existen duplicados en el DataFrame"
      ],
      "metadata": {
        "colab": {
          "base_uri": "https://localhost:8080/"
        },
        "id": "SRHzfI0WnAF0",
        "outputId": "65808874-3cfa-44db-95d4-87e63d937cf5"
      },
      "execution_count": 44,
      "outputs": [
        {
          "output_type": "stream",
          "name": "stdout",
          "text": [
            "a. ¿Hay duplicados en el DataFrame?\n",
            "False\n",
            "\n",
            "b. ¿Cuántos duplicados hay en el DataFrame?\n",
            "0\n"
          ]
        }
      ]
    },
    {
      "cell_type": "markdown",
      "source": [
        "* No hay valores duplicados"
      ],
      "metadata": {
        "id": "KI4eCO_7qysI"
      }
    },
    {
      "cell_type": "markdown",
      "source": [
        "## b) Identificar y abordar cualquier dato que falte en este conjunto de datos. Trátenlos de forma adecuada. Incluyan una breve descripción en el método que usan para tratar con los valores que faltan junto con una justificación para el uso de ese método.\n"
      ],
      "metadata": {
        "id": "4GtvpFeInEA2"
      }
    },
    {
      "cell_type": "code",
      "source": [
        "# Revisar en que variables hay datos nulos o faltantes y observar su porcentaje para determinar qué hacer\n",
        "porcentaje_nulos = (df.isnull().sum() / df.shape[0]) * 100\n",
        "porcentaje_nulos_positivos = porcentaje_nulos[porcentaje_nulos > 0]\n",
        "\n",
        "print(df.isnull().sum()[df.isnull().sum() > 0],\"\\n\")\n",
        "print(porcentaje_nulos_positivos)"
      ],
      "metadata": {
        "colab": {
          "base_uri": "https://localhost:8080/"
        },
        "id": "sxi7flQVnHbh",
        "outputId": "a13256d9-8b38-4a02-b8eb-32c212ca917d"
      },
      "execution_count": 45,
      "outputs": [
        {
          "output_type": "stream",
          "name": "stdout",
          "text": [
            "Series([], dtype: int64) \n",
            "\n",
            "Series([], dtype: float64)\n"
          ]
        }
      ]
    },
    {
      "cell_type": "code",
      "source": [
        "# como la respuesta anterior me dio unas listas vacías, supondría que no hay nulos, pero para estar seguros verifico con lo siguiente\n",
        "print(df.isnull().sum(),'\\n')   # También se podría revisar         print(df.isna().sum())          pero es lo mismo\n",
        "\n",
        "# También me gustaría verificar si existe la posibilidad de que en vez de nulos, null o NaN, allán celdas vacías o con espacios\n",
        "print(df.isin(['', ' ']).sum(),'\\n')\n",
        "\n",
        "# Y por si las moscas, revisaré si el df tiene datos\n",
        "print(f\"El DataFrame tiene {df.shape[0]} filas y {df.shape[1]} columnas\")"
      ],
      "metadata": {
        "colab": {
          "base_uri": "https://localhost:8080/"
        },
        "id": "xyurFUsqoibW",
        "outputId": "66b285da-4d73-48c2-8b7d-6b3b93210585"
      },
      "execution_count": 46,
      "outputs": [
        {
          "output_type": "stream",
          "name": "stdout",
          "text": [
            "user_id               0\n",
            "app_version           0\n",
            "platform              0\n",
            "session_duration      0\n",
            "number_of_sessions    0\n",
            "country               0\n",
            "user_feedback         0\n",
            "dtype: int64 \n",
            "\n",
            "user_id               0\n",
            "app_version           0\n",
            "platform              0\n",
            "session_duration      0\n",
            "number_of_sessions    0\n",
            "country               0\n",
            "user_feedback         0\n",
            "dtype: int64 \n",
            "\n",
            "El DataFrame tiene 300 filas y 7 columnas\n"
          ]
        }
      ]
    },
    {
      "cell_type": "markdown",
      "source": [
        "* No hay valores nulos"
      ],
      "metadata": {
        "id": "14LDIVPOq1tR"
      }
    },
    {
      "cell_type": "markdown",
      "source": [
        "## c) Asegurarse de que todas las columnas coincidan con los tipos de datos enumerados en el diccionario de datos.\n"
      ],
      "metadata": {
        "id": "XN6hBX3unIJf"
      }
    },
    {
      "cell_type": "code",
      "source": [
        "# Para asegurar esto se revisaría los tipos de datos\n",
        "print(df.dtypes)"
      ],
      "metadata": {
        "colab": {
          "base_uri": "https://localhost:8080/"
        },
        "id": "lCBDpUVBnJ9J",
        "outputId": "4213f9cf-9a1a-4569-d64b-4415a76678e5"
      },
      "execution_count": 47,
      "outputs": [
        {
          "output_type": "stream",
          "name": "stdout",
          "text": [
            "user_id                 int64\n",
            "app_version           float64\n",
            "platform               object\n",
            "session_duration        int64\n",
            "number_of_sessions      int64\n",
            "country                object\n",
            "user_feedback           int64\n",
            "dtype: object\n"
          ]
        }
      ]
    },
    {
      "cell_type": "markdown",
      "source": [
        "* Parece que cumple con los tipos de datos requeridos en el diccionario inicial"
      ],
      "metadata": {
        "id": "o5e0px55qb3P"
      }
    },
    {
      "cell_type": "markdown",
      "source": [
        "## d) Identificar y abordar cualquier inconsistencia en los valores categóricos (ejemplo: android, Android, ANDROID).\n"
      ],
      "metadata": {
        "id": "J7Au8AxUnKZz"
      }
    },
    {
      "cell_type": "code",
      "source": [
        "# Verificar valores únicos y cantidad de una columna\n",
        "print(df['platform'].value_counts())"
      ],
      "metadata": {
        "colab": {
          "base_uri": "https://localhost:8080/"
        },
        "id": "FY21CyfhnM4q",
        "outputId": "ad20d75f-deff-4904-f2b3-f3612026bd40"
      },
      "execution_count": 48,
      "outputs": [
        {
          "output_type": "stream",
          "name": "stdout",
          "text": [
            "platform\n",
            "iOS        163\n",
            "Android    137\n",
            "Name: count, dtype: int64\n"
          ]
        }
      ]
    },
    {
      "cell_type": "markdown",
      "source": [
        "* No parece haber inconsistencias en los valores categóricos de la columna platform"
      ],
      "metadata": {
        "id": "tF_6IvWvqpRp"
      }
    },
    {
      "cell_type": "markdown",
      "source": [
        "## e) Identificar y abordar cualquier punto de datos inapropiados o inusuales (ejemplo: tiempo de uso de 10000 horas en una semana).\n",
        "\n",
        "Si bien, en los requerimientos del ejercicio está especificado lo siguiente\n",
        "- session_duration: Duración de la sesión en minutos.\n",
        "- number_of_sessions: Número de sesiones en un día.\n",
        "\n",
        "Se podría entender que, la cantidad de minutos invertidos en una semana equivaldrían a multiplicar la duración de sesión en minutos por el número de sesiones por día por 7 días que tiene la semana"
      ],
      "metadata": {
        "id": "0nQ3fcI1nNep"
      }
    },
    {
      "cell_type": "code",
      "source": [
        "# Agregar primero una columna para saber la cantidad de minutos totales por semana\n",
        "df['total_minutes_week'] = df['session_duration'] * df['number_of_sessions'] * 7\n",
        "\n",
        "# Agregar la cantidad de horas por semana, pero que me dé los números enteros para poder revisar valores\n",
        "df['total_hours_week'] = df['total_minutes_week'] // 60\n",
        "\n",
        "# Obtener los valores únicos y ordenarlos\n",
        "horas_muestra = df['total_hours_week'].unique()\n",
        "horas_muestra = sorted(horas_muestra, reverse=True)  # Ordenar de mayor a menor\n",
        "\n",
        "# Mostrar el resultado\n",
        "print(horas_muestra)"
      ],
      "metadata": {
        "colab": {
          "base_uri": "https://localhost:8080/"
        },
        "id": "RUSst5D4nOMa",
        "outputId": "d86c0811-0518-4b33-ced5-2a722dda09f3"
      },
      "execution_count": 49,
      "outputs": [
        {
          "output_type": "stream",
          "name": "stdout",
          "text": [
            "[363, 351, 339, 332, 329, 325, 319, 317, 312, 311, 310, 305, 304, 300, 296, 292, 291, 290, 287, 281, 277, 274, 272, 269, 268, 251, 248, 243, 241, 236, 233, 230, 229, 226, 223, 222, 218, 212, 210, 209, 207, 205, 204, 203, 201, 198, 197, 195, 194, 191, 190, 187, 186, 184, 183, 179, 178, 175, 173, 171, 170, 169, 166, 165, 164, 163, 158, 155, 152, 151, 150, 147, 146, 145, 142, 139, 138, 136, 135, 133, 127, 126, 124, 123, 122, 120, 119, 115, 113, 112, 110, 109, 108, 106, 105, 102, 101, 100, 98, 97, 95, 94, 93, 92, 91, 89, 85, 84, 82, 81, 80, 79, 77, 75, 74, 73, 72, 71, 70, 68, 66, 65, 64, 63, 62, 61, 60, 58, 57, 56, 55, 52, 51, 49, 47, 46, 45, 43, 42, 41, 40, 39, 38, 37, 36, 35, 34, 33, 32, 30, 29, 27, 26, 24, 23, 22, 21, 20, 19, 18, 17, 16, 15, 14, 13, 12, 11, 10, 9, 8, 7, 6, 5, 4, 3, 2, 1, 0]\n"
          ]
        }
      ]
    },
    {
      "cell_type": "code",
      "source": [
        "# Si bien se obtuvieron la cantidad de horas a la semana, para verificar que estos números tengan lógica, se debería revisar algunos datos reales\n",
        "# Cantidad de horas que tiene una semana\n",
        "df['c_total_hours_week'] = 7 * 24\n",
        "\n",
        "# Si suponemos que, se duerme 8 horas, el tiempo real de \"actividad\" sería otro\n",
        "df['c_r_total_hours_week'] = 7 * (24-8)\n",
        "\n",
        "# Verificar si hay datos que no cumplan condiciones \"reales\"\n",
        "df['verification_value'] = (df['total_hours_week'] <= df['c_r_total_hours_week'])\n",
        "\n",
        "# Mostrar las columnas de interés\n",
        "df[['total_minutes_week','total_hours_week', 'c_r_total_hours_week', 'c_total_hours_week', 'verification_value']]"
      ],
      "metadata": {
        "colab": {
          "base_uri": "https://localhost:8080/",
          "height": 424
        },
        "id": "gQIyS2nvO0WS",
        "outputId": "253c961f-9f67-4340-9e68-d157ed242f33"
      },
      "execution_count": 53,
      "outputs": [
        {
          "output_type": "execute_result",
          "data": {
            "text/plain": [
              "     total_minutes_week  total_hours_week  c_r_total_hours_week  \\\n",
              "0                  8393               139                   112   \n",
              "1                 13804               230                   112   \n",
              "2                  8554               142                   112   \n",
              "3                   329                 5                   112   \n",
              "4                  1386                23                   112   \n",
              "..                  ...               ...                   ...   \n",
              "295                 924                15                   112   \n",
              "296                4956                82                   112   \n",
              "297                 455                 7                   112   \n",
              "298                5110                85                   112   \n",
              "299                1239                20                   112   \n",
              "\n",
              "     c_total_hours_week  verification_value  \n",
              "0                   168               False  \n",
              "1                   168               False  \n",
              "2                   168               False  \n",
              "3                   168                True  \n",
              "4                   168                True  \n",
              "..                  ...                 ...  \n",
              "295                 168                True  \n",
              "296                 168                True  \n",
              "297                 168                True  \n",
              "298                 168                True  \n",
              "299                 168                True  \n",
              "\n",
              "[300 rows x 5 columns]"
            ],
            "text/html": [
              "\n",
              "  <div id=\"df-c90dea2d-01b0-46e7-b65d-5ac470d4d738\" class=\"colab-df-container\">\n",
              "    <div>\n",
              "<style scoped>\n",
              "    .dataframe tbody tr th:only-of-type {\n",
              "        vertical-align: middle;\n",
              "    }\n",
              "\n",
              "    .dataframe tbody tr th {\n",
              "        vertical-align: top;\n",
              "    }\n",
              "\n",
              "    .dataframe thead th {\n",
              "        text-align: right;\n",
              "    }\n",
              "</style>\n",
              "<table border=\"1\" class=\"dataframe\">\n",
              "  <thead>\n",
              "    <tr style=\"text-align: right;\">\n",
              "      <th></th>\n",
              "      <th>total_minutes_week</th>\n",
              "      <th>total_hours_week</th>\n",
              "      <th>c_r_total_hours_week</th>\n",
              "      <th>c_total_hours_week</th>\n",
              "      <th>verification_value</th>\n",
              "    </tr>\n",
              "  </thead>\n",
              "  <tbody>\n",
              "    <tr>\n",
              "      <th>0</th>\n",
              "      <td>8393</td>\n",
              "      <td>139</td>\n",
              "      <td>112</td>\n",
              "      <td>168</td>\n",
              "      <td>False</td>\n",
              "    </tr>\n",
              "    <tr>\n",
              "      <th>1</th>\n",
              "      <td>13804</td>\n",
              "      <td>230</td>\n",
              "      <td>112</td>\n",
              "      <td>168</td>\n",
              "      <td>False</td>\n",
              "    </tr>\n",
              "    <tr>\n",
              "      <th>2</th>\n",
              "      <td>8554</td>\n",
              "      <td>142</td>\n",
              "      <td>112</td>\n",
              "      <td>168</td>\n",
              "      <td>False</td>\n",
              "    </tr>\n",
              "    <tr>\n",
              "      <th>3</th>\n",
              "      <td>329</td>\n",
              "      <td>5</td>\n",
              "      <td>112</td>\n",
              "      <td>168</td>\n",
              "      <td>True</td>\n",
              "    </tr>\n",
              "    <tr>\n",
              "      <th>4</th>\n",
              "      <td>1386</td>\n",
              "      <td>23</td>\n",
              "      <td>112</td>\n",
              "      <td>168</td>\n",
              "      <td>True</td>\n",
              "    </tr>\n",
              "    <tr>\n",
              "      <th>...</th>\n",
              "      <td>...</td>\n",
              "      <td>...</td>\n",
              "      <td>...</td>\n",
              "      <td>...</td>\n",
              "      <td>...</td>\n",
              "    </tr>\n",
              "    <tr>\n",
              "      <th>295</th>\n",
              "      <td>924</td>\n",
              "      <td>15</td>\n",
              "      <td>112</td>\n",
              "      <td>168</td>\n",
              "      <td>True</td>\n",
              "    </tr>\n",
              "    <tr>\n",
              "      <th>296</th>\n",
              "      <td>4956</td>\n",
              "      <td>82</td>\n",
              "      <td>112</td>\n",
              "      <td>168</td>\n",
              "      <td>True</td>\n",
              "    </tr>\n",
              "    <tr>\n",
              "      <th>297</th>\n",
              "      <td>455</td>\n",
              "      <td>7</td>\n",
              "      <td>112</td>\n",
              "      <td>168</td>\n",
              "      <td>True</td>\n",
              "    </tr>\n",
              "    <tr>\n",
              "      <th>298</th>\n",
              "      <td>5110</td>\n",
              "      <td>85</td>\n",
              "      <td>112</td>\n",
              "      <td>168</td>\n",
              "      <td>True</td>\n",
              "    </tr>\n",
              "    <tr>\n",
              "      <th>299</th>\n",
              "      <td>1239</td>\n",
              "      <td>20</td>\n",
              "      <td>112</td>\n",
              "      <td>168</td>\n",
              "      <td>True</td>\n",
              "    </tr>\n",
              "  </tbody>\n",
              "</table>\n",
              "<p>300 rows × 5 columns</p>\n",
              "</div>\n",
              "    <div class=\"colab-df-buttons\">\n",
              "\n",
              "  <div class=\"colab-df-container\">\n",
              "    <button class=\"colab-df-convert\" onclick=\"convertToInteractive('df-c90dea2d-01b0-46e7-b65d-5ac470d4d738')\"\n",
              "            title=\"Convert this dataframe to an interactive table.\"\n",
              "            style=\"display:none;\">\n",
              "\n",
              "  <svg xmlns=\"http://www.w3.org/2000/svg\" height=\"24px\" viewBox=\"0 -960 960 960\">\n",
              "    <path d=\"M120-120v-720h720v720H120Zm60-500h600v-160H180v160Zm220 220h160v-160H400v160Zm0 220h160v-160H400v160ZM180-400h160v-160H180v160Zm440 0h160v-160H620v160ZM180-180h160v-160H180v160Zm440 0h160v-160H620v160Z\"/>\n",
              "  </svg>\n",
              "    </button>\n",
              "\n",
              "  <style>\n",
              "    .colab-df-container {\n",
              "      display:flex;\n",
              "      gap: 12px;\n",
              "    }\n",
              "\n",
              "    .colab-df-convert {\n",
              "      background-color: #E8F0FE;\n",
              "      border: none;\n",
              "      border-radius: 50%;\n",
              "      cursor: pointer;\n",
              "      display: none;\n",
              "      fill: #1967D2;\n",
              "      height: 32px;\n",
              "      padding: 0 0 0 0;\n",
              "      width: 32px;\n",
              "    }\n",
              "\n",
              "    .colab-df-convert:hover {\n",
              "      background-color: #E2EBFA;\n",
              "      box-shadow: 0px 1px 2px rgba(60, 64, 67, 0.3), 0px 1px 3px 1px rgba(60, 64, 67, 0.15);\n",
              "      fill: #174EA6;\n",
              "    }\n",
              "\n",
              "    .colab-df-buttons div {\n",
              "      margin-bottom: 4px;\n",
              "    }\n",
              "\n",
              "    [theme=dark] .colab-df-convert {\n",
              "      background-color: #3B4455;\n",
              "      fill: #D2E3FC;\n",
              "    }\n",
              "\n",
              "    [theme=dark] .colab-df-convert:hover {\n",
              "      background-color: #434B5C;\n",
              "      box-shadow: 0px 1px 3px 1px rgba(0, 0, 0, 0.15);\n",
              "      filter: drop-shadow(0px 1px 2px rgba(0, 0, 0, 0.3));\n",
              "      fill: #FFFFFF;\n",
              "    }\n",
              "  </style>\n",
              "\n",
              "    <script>\n",
              "      const buttonEl =\n",
              "        document.querySelector('#df-c90dea2d-01b0-46e7-b65d-5ac470d4d738 button.colab-df-convert');\n",
              "      buttonEl.style.display =\n",
              "        google.colab.kernel.accessAllowed ? 'block' : 'none';\n",
              "\n",
              "      async function convertToInteractive(key) {\n",
              "        const element = document.querySelector('#df-c90dea2d-01b0-46e7-b65d-5ac470d4d738');\n",
              "        const dataTable =\n",
              "          await google.colab.kernel.invokeFunction('convertToInteractive',\n",
              "                                                    [key], {});\n",
              "        if (!dataTable) return;\n",
              "\n",
              "        const docLinkHtml = 'Like what you see? Visit the ' +\n",
              "          '<a target=\"_blank\" href=https://colab.research.google.com/notebooks/data_table.ipynb>data table notebook</a>'\n",
              "          + ' to learn more about interactive tables.';\n",
              "        element.innerHTML = '';\n",
              "        dataTable['output_type'] = 'display_data';\n",
              "        await google.colab.output.renderOutput(dataTable, element);\n",
              "        const docLink = document.createElement('div');\n",
              "        docLink.innerHTML = docLinkHtml;\n",
              "        element.appendChild(docLink);\n",
              "      }\n",
              "    </script>\n",
              "  </div>\n",
              "\n",
              "\n",
              "<div id=\"df-7e93e263-80a8-4184-9535-6bdfabccb13a\">\n",
              "  <button class=\"colab-df-quickchart\" onclick=\"quickchart('df-7e93e263-80a8-4184-9535-6bdfabccb13a')\"\n",
              "            title=\"Suggest charts\"\n",
              "            style=\"display:none;\">\n",
              "\n",
              "<svg xmlns=\"http://www.w3.org/2000/svg\" height=\"24px\"viewBox=\"0 0 24 24\"\n",
              "     width=\"24px\">\n",
              "    <g>\n",
              "        <path d=\"M19 3H5c-1.1 0-2 .9-2 2v14c0 1.1.9 2 2 2h14c1.1 0 2-.9 2-2V5c0-1.1-.9-2-2-2zM9 17H7v-7h2v7zm4 0h-2V7h2v10zm4 0h-2v-4h2v4z\"/>\n",
              "    </g>\n",
              "</svg>\n",
              "  </button>\n",
              "\n",
              "<style>\n",
              "  .colab-df-quickchart {\n",
              "      --bg-color: #E8F0FE;\n",
              "      --fill-color: #1967D2;\n",
              "      --hover-bg-color: #E2EBFA;\n",
              "      --hover-fill-color: #174EA6;\n",
              "      --disabled-fill-color: #AAA;\n",
              "      --disabled-bg-color: #DDD;\n",
              "  }\n",
              "\n",
              "  [theme=dark] .colab-df-quickchart {\n",
              "      --bg-color: #3B4455;\n",
              "      --fill-color: #D2E3FC;\n",
              "      --hover-bg-color: #434B5C;\n",
              "      --hover-fill-color: #FFFFFF;\n",
              "      --disabled-bg-color: #3B4455;\n",
              "      --disabled-fill-color: #666;\n",
              "  }\n",
              "\n",
              "  .colab-df-quickchart {\n",
              "    background-color: var(--bg-color);\n",
              "    border: none;\n",
              "    border-radius: 50%;\n",
              "    cursor: pointer;\n",
              "    display: none;\n",
              "    fill: var(--fill-color);\n",
              "    height: 32px;\n",
              "    padding: 0;\n",
              "    width: 32px;\n",
              "  }\n",
              "\n",
              "  .colab-df-quickchart:hover {\n",
              "    background-color: var(--hover-bg-color);\n",
              "    box-shadow: 0 1px 2px rgba(60, 64, 67, 0.3), 0 1px 3px 1px rgba(60, 64, 67, 0.15);\n",
              "    fill: var(--button-hover-fill-color);\n",
              "  }\n",
              "\n",
              "  .colab-df-quickchart-complete:disabled,\n",
              "  .colab-df-quickchart-complete:disabled:hover {\n",
              "    background-color: var(--disabled-bg-color);\n",
              "    fill: var(--disabled-fill-color);\n",
              "    box-shadow: none;\n",
              "  }\n",
              "\n",
              "  .colab-df-spinner {\n",
              "    border: 2px solid var(--fill-color);\n",
              "    border-color: transparent;\n",
              "    border-bottom-color: var(--fill-color);\n",
              "    animation:\n",
              "      spin 1s steps(1) infinite;\n",
              "  }\n",
              "\n",
              "  @keyframes spin {\n",
              "    0% {\n",
              "      border-color: transparent;\n",
              "      border-bottom-color: var(--fill-color);\n",
              "      border-left-color: var(--fill-color);\n",
              "    }\n",
              "    20% {\n",
              "      border-color: transparent;\n",
              "      border-left-color: var(--fill-color);\n",
              "      border-top-color: var(--fill-color);\n",
              "    }\n",
              "    30% {\n",
              "      border-color: transparent;\n",
              "      border-left-color: var(--fill-color);\n",
              "      border-top-color: var(--fill-color);\n",
              "      border-right-color: var(--fill-color);\n",
              "    }\n",
              "    40% {\n",
              "      border-color: transparent;\n",
              "      border-right-color: var(--fill-color);\n",
              "      border-top-color: var(--fill-color);\n",
              "    }\n",
              "    60% {\n",
              "      border-color: transparent;\n",
              "      border-right-color: var(--fill-color);\n",
              "    }\n",
              "    80% {\n",
              "      border-color: transparent;\n",
              "      border-right-color: var(--fill-color);\n",
              "      border-bottom-color: var(--fill-color);\n",
              "    }\n",
              "    90% {\n",
              "      border-color: transparent;\n",
              "      border-bottom-color: var(--fill-color);\n",
              "    }\n",
              "  }\n",
              "</style>\n",
              "\n",
              "  <script>\n",
              "    async function quickchart(key) {\n",
              "      const quickchartButtonEl =\n",
              "        document.querySelector('#' + key + ' button');\n",
              "      quickchartButtonEl.disabled = true;  // To prevent multiple clicks.\n",
              "      quickchartButtonEl.classList.add('colab-df-spinner');\n",
              "      try {\n",
              "        const charts = await google.colab.kernel.invokeFunction(\n",
              "            'suggestCharts', [key], {});\n",
              "      } catch (error) {\n",
              "        console.error('Error during call to suggestCharts:', error);\n",
              "      }\n",
              "      quickchartButtonEl.classList.remove('colab-df-spinner');\n",
              "      quickchartButtonEl.classList.add('colab-df-quickchart-complete');\n",
              "    }\n",
              "    (() => {\n",
              "      let quickchartButtonEl =\n",
              "        document.querySelector('#df-7e93e263-80a8-4184-9535-6bdfabccb13a button');\n",
              "      quickchartButtonEl.style.display =\n",
              "        google.colab.kernel.accessAllowed ? 'block' : 'none';\n",
              "    })();\n",
              "  </script>\n",
              "</div>\n",
              "\n",
              "    </div>\n",
              "  </div>\n"
            ],
            "application/vnd.google.colaboratory.intrinsic+json": {
              "type": "dataframe",
              "summary": "{\n  \"name\": \"df[['total_minutes_week','total_hours_week', 'c_r_total_hours_week', 'c_total_hours_week', 'verification_value']]\",\n  \"rows\": 300,\n  \"fields\": [\n    {\n      \"column\": \"total_minutes_week\",\n      \"properties\": {\n        \"dtype\": \"number\",\n        \"std\": 5595,\n        \"min\": 14,\n        \"max\": 21812,\n        \"num_unique_values\": 261,\n        \"samples\": [\n          14518,\n          12285,\n          210\n        ],\n        \"semantic_type\": \"\",\n        \"description\": \"\"\n      }\n    },\n    {\n      \"column\": \"total_hours_week\",\n      \"properties\": {\n        \"dtype\": \"number\",\n        \"std\": 93,\n        \"min\": 0,\n        \"max\": 363,\n        \"num_unique_values\": 178,\n        \"samples\": [\n          203,\n          20,\n          120\n        ],\n        \"semantic_type\": \"\",\n        \"description\": \"\"\n      }\n    },\n    {\n      \"column\": \"c_r_total_hours_week\",\n      \"properties\": {\n        \"dtype\": \"number\",\n        \"std\": 0,\n        \"min\": 112,\n        \"max\": 112,\n        \"num_unique_values\": 1,\n        \"samples\": [\n          112\n        ],\n        \"semantic_type\": \"\",\n        \"description\": \"\"\n      }\n    },\n    {\n      \"column\": \"c_total_hours_week\",\n      \"properties\": {\n        \"dtype\": \"number\",\n        \"std\": 0,\n        \"min\": 168,\n        \"max\": 168,\n        \"num_unique_values\": 1,\n        \"samples\": [\n          168\n        ],\n        \"semantic_type\": \"\",\n        \"description\": \"\"\n      }\n    },\n    {\n      \"column\": \"verification_value\",\n      \"properties\": {\n        \"dtype\": \"boolean\",\n        \"num_unique_values\": 2,\n        \"samples\": [\n          true\n        ],\n        \"semantic_type\": \"\",\n        \"description\": \"\"\n      }\n    }\n  ]\n}"
            }
          },
          "metadata": {},
          "execution_count": 53
        }
      ]
    },
    {
      "cell_type": "code",
      "source": [
        "# Verificar valores únicos y cantidad de la verificación para identificar los \"errores\"\n",
        "print(df['verification_value'].value_counts())\n"
      ],
      "metadata": {
        "colab": {
          "base_uri": "https://localhost:8080/"
        },
        "id": "zesnYiMjRMhE",
        "outputId": "936b2112-9e63-4e35-f396-5a98f19db2eb"
      },
      "execution_count": 51,
      "outputs": [
        {
          "output_type": "stream",
          "name": "stdout",
          "text": [
            "verification_value\n",
            "True     184\n",
            "False    116\n",
            "Name: count, dtype: int64\n"
          ]
        }
      ]
    },
    {
      "cell_type": "markdown",
      "source": [
        "### *Análisis*\n",
        "Al revisar datos inapropiados o inusuales, en este caso puntual, porque cuando se vuelva a correr el código va a cambiar los datos.\n",
        "- En este caso, de 300 datos, 116 parecen no tener consistencia o tener un significado real.\n",
        "\n",
        "Opciones:\n",
        "1. Si fueran datos reales, supondría que tocaría corregir, posiblemente errores de digitación o de las herramientas, en el código siguiente, supondría que, la duración de la sesión no está en minutos, sino directamente en horas, incluso en segundos\n",
        "2. En este caso puntual, supondría que se debería de corregir desde el inicio, al punto tal de que, haya un factor o estructura de control, donde total_minutes_week sea menor al límite 6.720, viene de multiplicar 60 minutos que tiene una hora, por 112 horas que es el límite máximo real de conexión\n",
        "\n"
      ],
      "metadata": {
        "id": "XjAbqNrCRMc1"
      }
    },
    {
      "cell_type": "markdown",
      "source": [
        "# **2) Exploración de Datos:**\n",
        "\n",
        "El siguiente paso es completar una exploración de los datos usando Python. Esto debe incluir:\n",
        "\n"
      ],
      "metadata": {
        "id": "dFLgUPRKnari"
      }
    },
    {
      "cell_type": "markdown",
      "source": [
        "## a) Dos tipos diferentes de visualizaciones exploratorias univariantes. Cada visualización debe incluir una breve interpretación dentro del archivo de código.\n"
      ],
      "metadata": {
        "id": "0xBRPEUVngQ8"
      }
    },
    {
      "cell_type": "code",
      "source": [
        "# Distribución del total de horas semanales de conexión, pero solo de aquellas que cumplen condición de ser \"posibles\"\n",
        "import matplotlib.pyplot as plt\n",
        "import seaborn as sns\n",
        "\n",
        "df2 = df.copy()\n",
        "df2 = df2[df2['verification_value'] != False]\n",
        "\n",
        "plt.figure(figsize=(15, 6))\n",
        "sns.histplot(df2['total_hours_week'], bins=60, kde=True, color=\"skyblue\")\n",
        "plt.title('Distribución de horas de conexión a la semana')\n",
        "plt.xlabel('Duración (horas)')\n",
        "plt.ylabel('Frecuencia')\n",
        "plt.show()"
      ],
      "metadata": {
        "colab": {
          "base_uri": "https://localhost:8080/",
          "height": 564
        },
        "id": "SZdKoU8qne2z",
        "outputId": "1f1a5859-c681-433d-c038-c2ff8aa0dfcb"
      },
      "execution_count": 68,
      "outputs": [
        {
          "output_type": "display_data",
          "data": {
            "text/plain": [
              "<Figure size 1500x600 with 1 Axes>"
            ],
            "image/png": "[encoded data removed]"
          },
          "metadata": {}
        }
      ]
    },
    {
      "cell_type": "markdown",
      "source": [
        "### *Análisis*\n",
        "Según lo observado, la distribución graficada de la columna total_hours_week, no hay algúna tendencia que sea notoria, tampoco algún tipo de distribución (como normal u otra), si podría mirarse que, hay picos puntuales muy marcados"
      ],
      "metadata": {
        "id": "-zHx_BEqdoNO"
      }
    },
    {
      "cell_type": "code",
      "source": [
        "# grafico torta de plataforma\n",
        "plt.figure(figsize=(15, 6))\n",
        "df2['platform'].value_counts().plot(kind='pie', autopct='%1.1f%%', startangle=90)\n",
        "plt.title('Distribución de plataformas')\n",
        "plt.ylabel('')\n",
        "plt.show()"
      ],
      "metadata": {
        "colab": {
          "base_uri": "https://localhost:8080/",
          "height": 521
        },
        "id": "gVDY_WXqbbHq",
        "outputId": "62795b34-1ed8-4049-8d4c-648fe91497f6"
      },
      "execution_count": 67,
      "outputs": [
        {
          "output_type": "display_data",
          "data": {
            "text/plain": [
              "<Figure size 1500x600 with 1 Axes>"
            ],
            "image/png": "[encoded data removed]"
          },
          "metadata": {}
        }
      ]
    },
    {
      "cell_type": "markdown",
      "source": [
        "### *Análisis*\n",
        "Según lo observado, la mayoría de usuarios tiene plataforma iOS"
      ],
      "metadata": {
        "id": "jA-G_mP6eY3w"
      }
    },
    {
      "cell_type": "markdown",
      "source": [
        "## b) Dos tipos diferentes de visualizaciones exploratorias multivariantes. Cada visualización debe incluir una breve interpretación dentro del archivo de código."
      ],
      "metadata": {
        "id": "iAukF_Dfni_2"
      }
    },
    {
      "cell_type": "code",
      "source": [
        "df2['platform'].value_counts()"
      ],
      "metadata": {
        "colab": {
          "base_uri": "https://localhost:8080/",
          "height": 178
        },
        "id": "FzIM9A1SasE_",
        "outputId": "ad6de62b-c2ac-4203-f272-7f7c7d62e08a"
      },
      "execution_count": 84,
      "outputs": [
        {
          "output_type": "execute_result",
          "data": {
            "text/plain": [
              "platform\n",
              "iOS        97\n",
              "Android    87\n",
              "Name: count, dtype: int64"
            ],
            "text/html": [
              "<div>\n",
              "<style scoped>\n",
              "    .dataframe tbody tr th:only-of-type {\n",
              "        vertical-align: middle;\n",
              "    }\n",
              "\n",
              "    .dataframe tbody tr th {\n",
              "        vertical-align: top;\n",
              "    }\n",
              "\n",
              "    .dataframe thead th {\n",
              "        text-align: right;\n",
              "    }\n",
              "</style>\n",
              "<table border=\"1\" class=\"dataframe\">\n",
              "  <thead>\n",
              "    <tr style=\"text-align: right;\">\n",
              "      <th></th>\n",
              "      <th>count</th>\n",
              "    </tr>\n",
              "    <tr>\n",
              "      <th>platform</th>\n",
              "      <th></th>\n",
              "    </tr>\n",
              "  </thead>\n",
              "  <tbody>\n",
              "    <tr>\n",
              "      <th>iOS</th>\n",
              "      <td>97</td>\n",
              "    </tr>\n",
              "    <tr>\n",
              "      <th>Android</th>\n",
              "      <td>87</td>\n",
              "    </tr>\n",
              "  </tbody>\n",
              "</table>\n",
              "</div><br><label><b>dtype:</b> int64</label>"
            ]
          },
          "metadata": {},
          "execution_count": 84
        }
      ]
    },
    {
      "cell_type": "code",
      "source": [
        "plt.figure(figsize=(15, 6))\n",
        "sns.boxplot(x='user_feedback', y='total_hours_week', hue='platform', data=df2, palette='Set2')\n",
        "plt.title('Horas semanales de conexión por feedback según la plataforma')\n",
        "plt.xlabel('Feedback')\n",
        "plt.ylabel('Horas de conexión semanales (horas)')\n",
        "plt.show()"
      ],
      "metadata": {
        "colab": {
          "base_uri": "https://localhost:8080/",
          "height": 565
        },
        "id": "oKjxncJTek9c",
        "outputId": "65ec3ad5-ecf7-4137-d480-459ab7c91b12"
      },
      "execution_count": 83,
      "outputs": [
        {
          "output_type": "display_data",
          "data": {
            "text/plain": [
              "<Figure size 1500x600 with 1 Axes>"
            ],
            "image/png": "[encoded data removed]"
          },
          "metadata": {}
        }
      ]
    },
    {
      "cell_type": "code",
      "source": [
        "# Crear tabla resumen con groupby\n",
        "summary_table = df2.groupby(['user_feedback', 'platform'])['total_hours_week'].agg(['mean', 'min', 'max', 'count']).round(1)\n",
        "\n",
        "# Mostrar la tabla\n",
        "summary_table"
      ],
      "metadata": {
        "colab": {
          "base_uri": "https://localhost:8080/",
          "height": 394
        },
        "id": "EQ-z4FoWqet0",
        "outputId": "1e2f9557-f88f-466c-df69-f4deb1548dc5"
      },
      "execution_count": 91,
      "outputs": [
        {
          "output_type": "execute_result",
          "data": {
            "text/plain": [
              "                        mean  min  max  count\n",
              "user_feedback platform                       \n",
              "1             Android   54.7    3  106     25\n",
              "              iOS       49.9    0  112     19\n",
              "2             Android   48.7    0   98     18\n",
              "              iOS       49.4    1  109     25\n",
              "3             Android   50.0    0  110     15\n",
              "              iOS       28.8    0   92     20\n",
              "4             Android   61.7   24   93      9\n",
              "              iOS       35.8    5   93     17\n",
              "5             Android   44.1    0  108     20\n",
              "              iOS       36.8    0   97     16"
            ],
            "text/html": [
              "\n",
              "  <div id=\"df-32137e76-a38e-4b25-b314-506c9b997121\" class=\"colab-df-container\">\n",
              "    <div>\n",
              "<style scoped>\n",
              "    .dataframe tbody tr th:only-of-type {\n",
              "        vertical-align: middle;\n",
              "    }\n",
              "\n",
              "    .dataframe tbody tr th {\n",
              "        vertical-align: top;\n",
              "    }\n",
              "\n",
              "    .dataframe thead th {\n",
              "        text-align: right;\n",
              "    }\n",
              "</style>\n",
              "<table border=\"1\" class=\"dataframe\">\n",
              "  <thead>\n",
              "    <tr style=\"text-align: right;\">\n",
              "      <th></th>\n",
              "      <th></th>\n",
              "      <th>mean</th>\n",
              "      <th>min</th>\n",
              "      <th>max</th>\n",
              "      <th>count</th>\n",
              "    </tr>\n",
              "    <tr>\n",
              "      <th>user_feedback</th>\n",
              "      <th>platform</th>\n",
              "      <th></th>\n",
              "      <th></th>\n",
              "      <th></th>\n",
              "      <th></th>\n",
              "    </tr>\n",
              "  </thead>\n",
              "  <tbody>\n",
              "    <tr>\n",
              "      <th rowspan=\"2\" valign=\"top\">1</th>\n",
              "      <th>Android</th>\n",
              "      <td>54.7</td>\n",
              "      <td>3</td>\n",
              "      <td>106</td>\n",
              "      <td>25</td>\n",
              "    </tr>\n",
              "    <tr>\n",
              "      <th>iOS</th>\n",
              "      <td>49.9</td>\n",
              "      <td>0</td>\n",
              "      <td>112</td>\n",
              "      <td>19</td>\n",
              "    </tr>\n",
              "    <tr>\n",
              "      <th rowspan=\"2\" valign=\"top\">2</th>\n",
              "      <th>Android</th>\n",
              "      <td>48.7</td>\n",
              "      <td>0</td>\n",
              "      <td>98</td>\n",
              "      <td>18</td>\n",
              "    </tr>\n",
              "    <tr>\n",
              "      <th>iOS</th>\n",
              "      <td>49.4</td>\n",
              "      <td>1</td>\n",
              "      <td>109</td>\n",
              "      <td>25</td>\n",
              "    </tr>\n",
              "    <tr>\n",
              "      <th rowspan=\"2\" valign=\"top\">3</th>\n",
              "      <th>Android</th>\n",
              "      <td>50.0</td>\n",
              "      <td>0</td>\n",
              "      <td>110</td>\n",
              "      <td>15</td>\n",
              "    </tr>\n",
              "    <tr>\n",
              "      <th>iOS</th>\n",
              "      <td>28.8</td>\n",
              "      <td>0</td>\n",
              "      <td>92</td>\n",
              "      <td>20</td>\n",
              "    </tr>\n",
              "    <tr>\n",
              "      <th rowspan=\"2\" valign=\"top\">4</th>\n",
              "      <th>Android</th>\n",
              "      <td>61.7</td>\n",
              "      <td>24</td>\n",
              "      <td>93</td>\n",
              "      <td>9</td>\n",
              "    </tr>\n",
              "    <tr>\n",
              "      <th>iOS</th>\n",
              "      <td>35.8</td>\n",
              "      <td>5</td>\n",
              "      <td>93</td>\n",
              "      <td>17</td>\n",
              "    </tr>\n",
              "    <tr>\n",
              "      <th rowspan=\"2\" valign=\"top\">5</th>\n",
              "      <th>Android</th>\n",
              "      <td>44.1</td>\n",
              "      <td>0</td>\n",
              "      <td>108</td>\n",
              "      <td>20</td>\n",
              "    </tr>\n",
              "    <tr>\n",
              "      <th>iOS</th>\n",
              "      <td>36.8</td>\n",
              "      <td>0</td>\n",
              "      <td>97</td>\n",
              "      <td>16</td>\n",
              "    </tr>\n",
              "  </tbody>\n",
              "</table>\n",
              "</div>\n",
              "    <div class=\"colab-df-buttons\">\n",
              "\n",
              "  <div class=\"colab-df-container\">\n",
              "    <button class=\"colab-df-convert\" onclick=\"convertToInteractive('df-32137e76-a38e-4b25-b314-506c9b997121')\"\n",
              "            title=\"Convert this dataframe to an interactive table.\"\n",
              "            style=\"display:none;\">\n",
              "\n",
              "  <svg xmlns=\"http://www.w3.org/2000/svg\" height=\"24px\" viewBox=\"0 -960 960 960\">\n",
              "    <path d=\"M120-120v-720h720v720H120Zm60-500h600v-160H180v160Zm220 220h160v-160H400v160Zm0 220h160v-160H400v160ZM180-400h160v-160H180v160Zm440 0h160v-160H620v160ZM180-180h160v-160H180v160Zm440 0h160v-160H620v160Z\"/>\n",
              "  </svg>\n",
              "    </button>\n",
              "\n",
              "  <style>\n",
              "    .colab-df-container {\n",
              "      display:flex;\n",
              "      gap: 12px;\n",
              "    }\n",
              "\n",
              "    .colab-df-convert {\n",
              "      background-color: #E8F0FE;\n",
              "      border: none;\n",
              "      border-radius: 50%;\n",
              "      cursor: pointer;\n",
              "      display: none;\n",
              "      fill: #1967D2;\n",
              "      height: 32px;\n",
              "      padding: 0 0 0 0;\n",
              "      width: 32px;\n",
              "    }\n",
              "\n",
              "    .colab-df-convert:hover {\n",
              "      background-color: #E2EBFA;\n",
              "      box-shadow: 0px 1px 2px rgba(60, 64, 67, 0.3), 0px 1px 3px 1px rgba(60, 64, 67, 0.15);\n",
              "      fill: #174EA6;\n",
              "    }\n",
              "\n",
              "    .colab-df-buttons div {\n",
              "      margin-bottom: 4px;\n",
              "    }\n",
              "\n",
              "    [theme=dark] .colab-df-convert {\n",
              "      background-color: #3B4455;\n",
              "      fill: #D2E3FC;\n",
              "    }\n",
              "\n",
              "    [theme=dark] .colab-df-convert:hover {\n",
              "      background-color: #434B5C;\n",
              "      box-shadow: 0px 1px 3px 1px rgba(0, 0, 0, 0.15);\n",
              "      filter: drop-shadow(0px 1px 2px rgba(0, 0, 0, 0.3));\n",
              "      fill: #FFFFFF;\n",
              "    }\n",
              "  </style>\n",
              "\n",
              "    <script>\n",
              "      const buttonEl =\n",
              "        document.querySelector('#df-32137e76-a38e-4b25-b314-506c9b997121 button.colab-df-convert');\n",
              "      buttonEl.style.display =\n",
              "        google.colab.kernel.accessAllowed ? 'block' : 'none';\n",
              "\n",
              "      async function convertToInteractive(key) {\n",
              "        const element = document.querySelector('#df-32137e76-a38e-4b25-b314-506c9b997121');\n",
              "        const dataTable =\n",
              "          await google.colab.kernel.invokeFunction('convertToInteractive',\n",
              "                                                    [key], {});\n",
              "        if (!dataTable) return;\n",
              "\n",
              "        const docLinkHtml = 'Like what you see? Visit the ' +\n",
              "          '<a target=\"_blank\" href=https://colab.research.google.com/notebooks/data_table.ipynb>data table notebook</a>'\n",
              "          + ' to learn more about interactive tables.';\n",
              "        element.innerHTML = '';\n",
              "        dataTable['output_type'] = 'display_data';\n",
              "        await google.colab.output.renderOutput(dataTable, element);\n",
              "        const docLink = document.createElement('div');\n",
              "        docLink.innerHTML = docLinkHtml;\n",
              "        element.appendChild(docLink);\n",
              "      }\n",
              "    </script>\n",
              "  </div>\n",
              "\n",
              "\n",
              "<div id=\"df-38504156-d966-4e4a-80e5-28507dd0778f\">\n",
              "  <button class=\"colab-df-quickchart\" onclick=\"quickchart('df-38504156-d966-4e4a-80e5-28507dd0778f')\"\n",
              "            title=\"Suggest charts\"\n",
              "            style=\"display:none;\">\n",
              "\n",
              "<svg xmlns=\"http://www.w3.org/2000/svg\" height=\"24px\"viewBox=\"0 0 24 24\"\n",
              "     width=\"24px\">\n",
              "    <g>\n",
              "        <path d=\"M19 3H5c-1.1 0-2 .9-2 2v14c0 1.1.9 2 2 2h14c1.1 0 2-.9 2-2V5c0-1.1-.9-2-2-2zM9 17H7v-7h2v7zm4 0h-2V7h2v10zm4 0h-2v-4h2v4z\"/>\n",
              "    </g>\n",
              "</svg>\n",
              "  </button>\n",
              "\n",
              "<style>\n",
              "  .colab-df-quickchart {\n",
              "      --bg-color: #E8F0FE;\n",
              "      --fill-color: #1967D2;\n",
              "      --hover-bg-color: #E2EBFA;\n",
              "      --hover-fill-color: #174EA6;\n",
              "      --disabled-fill-color: #AAA;\n",
              "      --disabled-bg-color: #DDD;\n",
              "  }\n",
              "\n",
              "  [theme=dark] .colab-df-quickchart {\n",
              "      --bg-color: #3B4455;\n",
              "      --fill-color: #D2E3FC;\n",
              "      --hover-bg-color: #434B5C;\n",
              "      --hover-fill-color: #FFFFFF;\n",
              "      --disabled-bg-color: #3B4455;\n",
              "      --disabled-fill-color: #666;\n",
              "  }\n",
              "\n",
              "  .colab-df-quickchart {\n",
              "    background-color: var(--bg-color);\n",
              "    border: none;\n",
              "    border-radius: 50%;\n",
              "    cursor: pointer;\n",
              "    display: none;\n",
              "    fill: var(--fill-color);\n",
              "    height: 32px;\n",
              "    padding: 0;\n",
              "    width: 32px;\n",
              "  }\n",
              "\n",
              "  .colab-df-quickchart:hover {\n",
              "    background-color: var(--hover-bg-color);\n",
              "    box-shadow: 0 1px 2px rgba(60, 64, 67, 0.3), 0 1px 3px 1px rgba(60, 64, 67, 0.15);\n",
              "    fill: var(--button-hover-fill-color);\n",
              "  }\n",
              "\n",
              "  .colab-df-quickchart-complete:disabled,\n",
              "  .colab-df-quickchart-complete:disabled:hover {\n",
              "    background-color: var(--disabled-bg-color);\n",
              "    fill: var(--disabled-fill-color);\n",
              "    box-shadow: none;\n",
              "  }\n",
              "\n",
              "  .colab-df-spinner {\n",
              "    border: 2px solid var(--fill-color);\n",
              "    border-color: transparent;\n",
              "    border-bottom-color: var(--fill-color);\n",
              "    animation:\n",
              "      spin 1s steps(1) infinite;\n",
              "  }\n",
              "\n",
              "  @keyframes spin {\n",
              "    0% {\n",
              "      border-color: transparent;\n",
              "      border-bottom-color: var(--fill-color);\n",
              "      border-left-color: var(--fill-color);\n",
              "    }\n",
              "    20% {\n",
              "      border-color: transparent;\n",
              "      border-left-color: var(--fill-color);\n",
              "      border-top-color: var(--fill-color);\n",
              "    }\n",
              "    30% {\n",
              "      border-color: transparent;\n",
              "      border-left-color: var(--fill-color);\n",
              "      border-top-color: var(--fill-color);\n",
              "      border-right-color: var(--fill-color);\n",
              "    }\n",
              "    40% {\n",
              "      border-color: transparent;\n",
              "      border-right-color: var(--fill-color);\n",
              "      border-top-color: var(--fill-color);\n",
              "    }\n",
              "    60% {\n",
              "      border-color: transparent;\n",
              "      border-right-color: var(--fill-color);\n",
              "    }\n",
              "    80% {\n",
              "      border-color: transparent;\n",
              "      border-right-color: var(--fill-color);\n",
              "      border-bottom-color: var(--fill-color);\n",
              "    }\n",
              "    90% {\n",
              "      border-color: transparent;\n",
              "      border-bottom-color: var(--fill-color);\n",
              "    }\n",
              "  }\n",
              "</style>\n",
              "\n",
              "  <script>\n",
              "    async function quickchart(key) {\n",
              "      const quickchartButtonEl =\n",
              "        document.querySelector('#' + key + ' button');\n",
              "      quickchartButtonEl.disabled = true;  // To prevent multiple clicks.\n",
              "      quickchartButtonEl.classList.add('colab-df-spinner');\n",
              "      try {\n",
              "        const charts = await google.colab.kernel.invokeFunction(\n",
              "            'suggestCharts', [key], {});\n",
              "      } catch (error) {\n",
              "        console.error('Error during call to suggestCharts:', error);\n",
              "      }\n",
              "      quickchartButtonEl.classList.remove('colab-df-spinner');\n",
              "      quickchartButtonEl.classList.add('colab-df-quickchart-complete');\n",
              "    }\n",
              "    (() => {\n",
              "      let quickchartButtonEl =\n",
              "        document.querySelector('#df-38504156-d966-4e4a-80e5-28507dd0778f button');\n",
              "      quickchartButtonEl.style.display =\n",
              "        google.colab.kernel.accessAllowed ? 'block' : 'none';\n",
              "    })();\n",
              "  </script>\n",
              "</div>\n",
              "\n",
              "  <div id=\"id_b6bdefc5-9e20-4f08-b22a-a50a2f23521a\">\n",
              "    <style>\n",
              "      .colab-df-generate {\n",
              "        background-color: #E8F0FE;\n",
              "        border: none;\n",
              "        border-radius: 50%;\n",
              "        cursor: pointer;\n",
              "        display: none;\n",
              "        fill: #1967D2;\n",
              "        height: 32px;\n",
              "        padding: 0 0 0 0;\n",
              "        width: 32px;\n",
              "      }\n",
              "\n",
              "      .colab-df-generate:hover {\n",
              "        background-color: #E2EBFA;\n",
              "        box-shadow: 0px 1px 2px rgba(60, 64, 67, 0.3), 0px 1px 3px 1px rgba(60, 64, 67, 0.15);\n",
              "        fill: #174EA6;\n",
              "      }\n",
              "\n",
              "      [theme=dark] .colab-df-generate {\n",
              "        background-color: #3B4455;\n",
              "        fill: #D2E3FC;\n",
              "      }\n",
              "\n",
              "      [theme=dark] .colab-df-generate:hover {\n",
              "        background-color: #434B5C;\n",
              "        box-shadow: 0px 1px 3px 1px rgba(0, 0, 0, 0.15);\n",
              "        filter: drop-shadow(0px 1px 2px rgba(0, 0, 0, 0.3));\n",
              "        fill: #FFFFFF;\n",
              "      }\n",
              "    </style>\n",
              "    <button class=\"colab-df-generate\" onclick=\"generateWithVariable('summary_table')\"\n",
              "            title=\"Generate code using this dataframe.\"\n",
              "            style=\"display:none;\">\n",
              "\n",
              "  <svg xmlns=\"http://www.w3.org/2000/svg\" height=\"24px\"viewBox=\"0 0 24 24\"\n",
              "       width=\"24px\">\n",
              "    <path d=\"M7,19H8.4L18.45,9,17,7.55,7,17.6ZM5,21V16.75L18.45,3.32a2,2,0,0,1,2.83,0l1.4,1.43a1.91,1.91,0,0,1,.58,1.4,1.91,1.91,0,0,1-.58,1.4L9.25,21ZM18.45,9,17,7.55Zm-12,3A5.31,5.31,0,0,0,4.9,8.1,5.31,5.31,0,0,0,1,6.5,5.31,5.31,0,0,0,4.9,4.9,5.31,5.31,0,0,0,6.5,1,5.31,5.31,0,0,0,8.1,4.9,5.31,5.31,0,0,0,12,6.5,5.46,5.46,0,0,0,6.5,12Z\"/>\n",
              "  </svg>\n",
              "    </button>\n",
              "    <script>\n",
              "      (() => {\n",
              "      const buttonEl =\n",
              "        document.querySelector('#id_b6bdefc5-9e20-4f08-b22a-a50a2f23521a button.colab-df-generate');\n",
              "      buttonEl.style.display =\n",
              "        google.colab.kernel.accessAllowed ? 'block' : 'none';\n",
              "\n",
              "      buttonEl.onclick = () => {\n",
              "        google.colab.notebook.generateWithVariable('summary_table');\n",
              "      }\n",
              "      })();\n",
              "    </script>\n",
              "  </div>\n",
              "\n",
              "    </div>\n",
              "  </div>\n"
            ],
            "application/vnd.google.colaboratory.intrinsic+json": {
              "type": "dataframe",
              "variable_name": "summary_table",
              "summary": "{\n  \"name\": \"summary_table\",\n  \"rows\": 10,\n  \"fields\": [\n    {\n      \"column\": \"mean\",\n      \"properties\": {\n        \"dtype\": \"number\",\n        \"std\": 9.77734910676486,\n        \"min\": 28.8,\n        \"max\": 61.7,\n        \"num_unique_values\": 10,\n        \"samples\": [\n          44.1,\n          49.9,\n          28.8\n        ],\n        \"semantic_type\": \"\",\n        \"description\": \"\"\n      }\n    },\n    {\n      \"column\": \"min\",\n      \"properties\": {\n        \"dtype\": \"number\",\n        \"std\": 7,\n        \"min\": 0,\n        \"max\": 24,\n        \"num_unique_values\": 5,\n        \"samples\": [\n          0,\n          5,\n          1\n        ],\n        \"semantic_type\": \"\",\n        \"description\": \"\"\n      }\n    },\n    {\n      \"column\": \"max\",\n      \"properties\": {\n        \"dtype\": \"number\",\n        \"std\": 7,\n        \"min\": 92,\n        \"max\": 112,\n        \"num_unique_values\": 9,\n        \"samples\": [\n          108,\n          112,\n          92\n        ],\n        \"semantic_type\": \"\",\n        \"description\": \"\"\n      }\n    },\n    {\n      \"column\": \"count\",\n      \"properties\": {\n        \"dtype\": \"number\",\n        \"std\": 4,\n        \"min\": 9,\n        \"max\": 25,\n        \"num_unique_values\": 8,\n        \"samples\": [\n          19,\n          9,\n          25\n        ],\n        \"semantic_type\": \"\",\n        \"description\": \"\"\n      }\n    }\n  ]\n}"
            }
          },
          "metadata": {},
          "execution_count": 91
        }
      ]
    },
    {
      "cell_type": "markdown",
      "source": [
        "### *Análisis*\n",
        "Revisando la diferencia entre la cantidad de usuarios por plataforma, solo 10 se podría suponer que, por un lado pareciera que los usuarios de Android tienden a pasar más tiempo de conexión a la semana que los usuarios de iOS (por la mediana y el peso de algunos gráficos hacía arriba), también que los datos en cualquier nivel de feedback con plataforma suelen a ser bastante dispersos las barras de los datos extremos están bastante lejos de el q1 o el q3.\n",
        "\n",
        "Al mirar la cantidad de usuarios que responden a un nivel del feedback por plataforma para determinar si hay alguna plataforma en la cual el feedback sea mayor, pareciera que en nivel más bajo del feedback inferior, son usuarios que permanecen más tiempo, comparado con los del nivel más alto del feedback, tienen menores tiempos de conexión. También parece haber alguna tendencia en que los usuarios que más tiempo de conexión tienen son los de la plataforma Android\n",
        "\n"
      ],
      "metadata": {
        "id": "UP60K19Cgt33"
      }
    },
    {
      "cell_type": "code",
      "source": [
        "plt.figure(figsize=(10, 6))\n",
        "sns.scatterplot(x='country', y='total_hours_week', hue='platform', data=df2, palette='Set2')\n",
        "plt.title('Horas semanales de conexión por país según la Plataforma')\n",
        "plt.xlabel('País')\n",
        "plt.ylabel('Horas de conexión semanales (horas)')\n",
        "plt.show()"
      ],
      "metadata": {
        "colab": {
          "base_uri": "https://localhost:8080/",
          "height": 565
        },
        "id": "n-iBSv5lekW9",
        "outputId": "3bb0c773-95a6-48c1-a331-bdf7385b9052"
      },
      "execution_count": 81,
      "outputs": [
        {
          "output_type": "display_data",
          "data": {
            "text/plain": [
              "<Figure size 1000x600 with 1 Axes>"
            ],
            "image/png": "[encoded data removed]"
          },
          "metadata": {}
        }
      ]
    },
    {
      "cell_type": "markdown",
      "source": [
        "### *Análisis*\n",
        "En países como Canada y UK los usuarios de la plataforma iOS parecen ser los que tienen menor tiempo en horas de conexión semanales, mientras que en USA los usuarios de plataforma iOS son los que tienen mayor tiempo en horas de conexión semanales.\n",
        "Mientras que, en Canada y Germany, la tendencia es de que los usuarios con plataforma Android tengan más tiempo de conexión semanal\n"
      ],
      "metadata": {
        "id": "WffsW4KFgxRZ"
      }
    },
    {
      "cell_type": "code",
      "source": [],
      "metadata": {
        "id": "h6IaQQcShFdw"
      },
      "execution_count": null,
      "outputs": []
    }
  ]
}