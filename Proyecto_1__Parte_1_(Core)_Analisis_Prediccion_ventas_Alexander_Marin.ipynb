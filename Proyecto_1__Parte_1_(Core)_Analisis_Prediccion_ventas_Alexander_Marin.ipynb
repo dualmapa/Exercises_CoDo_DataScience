{
  "nbformat": 4,
  "nbformat_minor": 0,
  "metadata": {
    "colab": {
      "provenance": []
    },
    "kernelspec": {
      "name": "python3",
      "display_name": "Python 3"
    },
    "language_info": {
      "name": "python"
    }
  },
  "cells": [
    {
      "cell_type": "markdown",
      "source": [
        "1. Configuración Inicial del Proyecto:\n",
        "- Crea un repositorio en GitHub para tu proyecto.\n",
        "- Configura dos ramas en tu repositorio: main y development.\n",
        "- Agrega un archivo README.md con una descripción del proyecto, instrucciones de instalación y uso.\n",
        "2. **Carga y Preprocesamiento de Datos:**\n",
        "- Carga los datos del archivo CSV utilizando NumPy.\n",
        "- Realiza un preprocesamiento básico para asegurarte de que los datos estén limpios y listos para su análisis.\n",
        "3. **Exploración de Datos:**\n",
        "- Calcula el total de ventas por categoría de producto.\n",
        "- Calcula el promedio de ventas diarias por categoría de producto.\n",
        "- Identifica las categorías de productos con mayores y menores ventas.\n",
        "4. **Manipulación de Datos:**\n",
        "- Filtra los datos para mostrar solo las ventas de una categoría de producto específica.\n",
        "- Realiza operaciones de suma, resta, multiplicación y división en los datos para obtener estadísticas adicionales."
      ],
      "metadata": {
        "id": "V-HFDVonPUCK"
      }
    },
    {
      "cell_type": "markdown",
      "source": [],
      "metadata": {
        "id": "xG6toypBPlhM"
      }
    },
    {
      "cell_type": "markdown",
      "source": [
        "# **1- Preprocesamiento Básico con numpy**"
      ],
      "metadata": {
        "id": "kemjtjo2NPtk"
      }
    },
    {
      "cell_type": "markdown",
      "source": [
        "##**a) Leer y procesar los datos**"
      ],
      "metadata": {
        "id": "RK6A5uLONd0I"
      }
    },
    {
      "cell_type": "code",
      "source": [
        "import numpy as np\n",
        "\n",
        "# Importa la librería NumPy, útil para trabajar con datos numéricos y matrices.\n",
        "# Carga los datos de un archivo CSV.\n",
        "# - 'delimiter' indica que las columnas están separadas por comas.\n",
        "# - 'dtype=None' permite que NumPy detecte automáticamente los tipos de datos.\n",
        "# - 'encoding' asegura que se lea correctamente el archivo, incluso con caracteres especiales.\n",
        "# - 'names=True' indica que la primera fila contiene los nombres de las columnas.\n",
        "data_csv = np.genfromtxt('/content/retail_sales_dataset.csv', delimiter=',', dtype=None, encoding='utf-8', names=True)\n",
        "\n",
        "# Muestra los nombres de las columnas del archivo CSV.\n",
        "print(\"Nombres de las columnas:\", data_csv.dtype.names, \"\\n\")\n",
        "\n",
        "# Imprime las primeras 5 filas de los datos cargados.\n",
        "print(data_csv[:5])"
      ],
      "metadata": {
        "id": "aHmcjsnVvQ-K",
        "colab": {
          "base_uri": "https://localhost:8080/"
        },
        "outputId": "082abcf9-bfea-4eb2-e28f-f02baff02236"
      },
      "execution_count": 5,
      "outputs": [
        {
          "output_type": "stream",
          "name": "stdout",
          "text": [
            "Nombres de las columnas: ('Transaction_ID', 'Date', 'Customer_ID', 'Gender', 'Age', 'Product_Category', 'Quantity', 'Price_per_Unit', 'Total_Amount') \n",
            "\n",
            "[(1, '2023-11-24', 'CUST001', 'Male', 34, 'Beauty', 3,  50,  150)\n",
            " (2, '2023-02-27', 'CUST002', 'Female', 26, 'Clothing', 2, 500, 1000)\n",
            " (3, '2023-01-13', 'CUST003', 'Male', 50, 'Electronics', 1,  30,   30)\n",
            " (4, '2023-05-21', 'CUST004', 'Male', 37, 'Clothing', 1, 500,  500)\n",
            " (5, '2023-05-06', 'CUST005', 'Male', 30, 'Beauty', 2,  50,  100)]\n"
          ]
        }
      ]
    },
    {
      "cell_type": "markdown",
      "source": [
        "## **b) Verificar si hay valores nulos y reemplazarlos**"
      ],
      "metadata": {
        "id": "mzCYgiG5Nirr"
      }
    },
    {
      "cell_type": "code",
      "source": [
        "# Recorre cada columna en los datos cargados, utilizando los nombres de las columnas.\n",
        "for column in data_csv.dtype.names:\n",
        "    # Verifica si la columna tiene datos de tipo float (números con decimales).\n",
        "    if data_csv[column].dtype == 'float':\n",
        "        # Cuenta cuántos valores nulos (NaN) hay en la columna y los imprime.\n",
        "        print(f\"\\nValores nulos en columna {column}:\", np.sum(np.isnan(data_csv[column])))\n",
        "    else:\n",
        "        # Si la columna no es de tipo float, asume que no tiene valores nulos (NaN).\n",
        "        print(f'No existen datos nulos en la columna {column}')"
      ],
      "metadata": {
        "id": "O7JrGVjOvURo",
        "colab": {
          "base_uri": "https://localhost:8080/"
        },
        "outputId": "6e6b4dd9-99d1-4181-99c4-6cc997e1aa25"
      },
      "execution_count": 2,
      "outputs": [
        {
          "output_type": "stream",
          "name": "stdout",
          "text": [
            "No existen datos nulos en la columna Transaction_ID\n",
            "No existen datos nulos en la columna Date\n",
            "No existen datos nulos en la columna Customer_ID\n",
            "No existen datos nulos en la columna Gender\n",
            "No existen datos nulos en la columna Age\n",
            "No existen datos nulos en la columna Product_Category\n",
            "No existen datos nulos en la columna Quantity\n",
            "No existen datos nulos en la columna Price_per_Unit\n",
            "No existen datos nulos en la columna Total_Amount\n"
          ]
        }
      ]
    },
    {
      "cell_type": "markdown",
      "source": [
        "Cómo se eligió el dataset directo de Kagle, no se encontraron datos nulos o faltantes en el dataset, supongo que, dependiendo del objetivo, si se debería revisar si hay datos repetidos"
      ],
      "metadata": {
        "id": "-AokKOzAXfnL"
      }
    },
    {
      "cell_type": "markdown",
      "source": [
        "# **2. Exploración de Datos**"
      ],
      "metadata": {
        "id": "HaS2QlH-NVDL"
      }
    },
    {
      "cell_type": "markdown",
      "source": [
        "## **a) Calcular el total de ventas por categoría de producto**"
      ],
      "metadata": {
        "id": "PvgmShGUNoVT"
      }
    },
    {
      "cell_type": "code",
      "source": [
        "# Obtener los valores únicos y su cantidad en la columna 'Product_Category'\n",
        "unique_values, counts = np.unique(data_csv['Product_Category'], return_counts=True)\n",
        "\n",
        "# Mostrar los valores únicos\n",
        "print(\"\\nValores únicos en 'Product_Category':\", unique_values)\n",
        "\n",
        "# Mostrar la cantidad total de valores únicos\n",
        "print(\"\\nCantidad de valores únicos:\", len(unique_values))\n",
        "\n",
        "# Mostrar las frecuencias de cada valor único\n",
        "print(\"\\nFrecuencias de los valores únicos:\", dict(zip(unique_values, counts)))\n",
        "#dict(zip(claves,valors)): para combinar los valores únicos y sus frecuencias en un diccionario para fácil lectura."
      ],
      "metadata": {
        "colab": {
          "base_uri": "https://localhost:8080/"
        },
        "id": "7b27RDaaY_Zh",
        "outputId": "7276968d-9eb7-4431-b786-30daba59aeb8"
      },
      "execution_count": 17,
      "outputs": [
        {
          "output_type": "stream",
          "name": "stdout",
          "text": [
            "\n",
            "Valores únicos en 'Product_Category': ['Beauty' 'Clothing' 'Electronics']\n",
            "\n",
            "Cantidad de valores únicos: 3\n",
            "\n",
            "Frecuencias de los valores únicos: {'Beauty': 307, 'Clothing': 351, 'Electronics': 342}\n"
          ]
        }
      ]
    },
    {
      "cell_type": "code",
      "source": [
        "# Utiliza np.unique para obtener las categorías únicas de 'Product_Category' y el índice correspondiente.\n",
        "# 'return_inverse=True' devuelve el arreglo 'inverse' con índices que corresponden a las categorías.\n",
        "categories, inverse = np.unique(data_csv['Product_Category'], return_inverse=True)\n",
        "\n",
        "# Utiliza np.bincount para contar y sumar los valores de 'Transaction_ID' en función de los índices en 'inverse'.\n",
        "# 'weights=data_csv['Transaction_ID']' asegura que cada valor en 'Transaction_ID' se sume en lugar de simplemente contar las ocurrencias.\n",
        "totals = np.bincount(inverse, weights=data_csv['Transaction_ID'])\n",
        "\n",
        "# Crea un diccionario 'total_ventas_por_categoria_3' que mapea las categorías a sus respectivos totales de ventas.\n",
        "total_ventas_por_categoria_3 = dict(zip(categories, totals))\n",
        "\n",
        "# Imprime el total de ventas por categoría.\n",
        "print(\"\\nTotal de ventas por categoría:\")\n",
        "print(total_ventas_por_categoria_3)"
      ],
      "metadata": {
        "id": "7aLx5hcsKG7R",
        "colab": {
          "base_uri": "https://localhost:8080/"
        },
        "outputId": "05df57ff-d40a-4513-863d-236b0264d4e0"
      },
      "execution_count": null,
      "outputs": [
        {
          "output_type": "stream",
          "name": "stdout",
          "text": [
            "\n",
            "Total de ventas por categoría:\n",
            "{'Beauty': 150864.0, 'Clothing': 173725.0, 'Electronics': 175911.0}\n"
          ]
        }
      ]
    },
    {
      "cell_type": "markdown",
      "source": [
        "## **b) Calcular el promedio de ventas diarias por categoría de producto**"
      ],
      "metadata": {
        "id": "FEqwDKJgNqVN"
      }
    },
    {
      "cell_type": "code",
      "source": [
        "# Obtiene las fechas únicas de la columna 'Date'.\n",
        "dates = np.unique(data_csv['Date'])\n",
        "\n",
        "# Inicializa un diccionario vacío para almacenar las ventas diarias por categoría.\n",
        "ventas_diarias = {}\n",
        "\n",
        "# Itera sobre cada categoría única de 'Product_Category'.\n",
        "for category in categories:\n",
        "    # Obtiene las ventas correspondientes a la categoría actual.\n",
        "    ventas_por_categoria = data_csv['Total_Amount'][data_csv['Product_Category'] == category]\n",
        "\n",
        "    # Obtiene las fechas correspondientes a la categoría actual.\n",
        "    fechas_categoria = data_csv['Date'][data_csv['Product_Category'] == category]\n",
        "\n",
        "    # Para cada fecha única, calcula la suma de las ventas en esa fecha para la categoría actual.\n",
        "    ventas_diarias[category] = {fecha: np.sum(ventas_por_categoria[fechas_categoria == fecha]) for fecha in dates}\n",
        "\n",
        "# Calcula el promedio de ventas diarias por categoría, promediando los valores de cada diccionario de ventas diarias.\n",
        "promedio_ventas_diarias = {category: round(np.mean(list(d.values())),3) for category, d in ventas_diarias.items()}\n",
        "\n",
        "# Imprime el promedio de ventas diarias por categoría.\n",
        "print(\"\\nPromedio de ventas diarias por categoría:\")\n",
        "print(promedio_ventas_diarias)"
      ],
      "metadata": {
        "id": "-9aKGnZsvZWb",
        "colab": {
          "base_uri": "https://localhost:8080/"
        },
        "outputId": "3b97a50b-f10a-4652-b8a6-740d30c26f11"
      },
      "execution_count": 25,
      "outputs": [
        {
          "output_type": "stream",
          "name": "stdout",
          "text": [
            "\n",
            "Promedio de ventas diarias por categoría:\n",
            "{'Beauty': 415.986, 'Clothing': 450.957, 'Electronics': 454.797}\n"
          ]
        }
      ]
    },
    {
      "cell_type": "markdown",
      "source": [
        "## **c) Identificar las categorías con mayores y menores ventas**"
      ],
      "metadata": {
        "id": "PATL2fWENsrh"
      }
    },
    {
      "cell_type": "code",
      "source": [
        "categories_array = np.array(list(total_ventas_por_categoria.keys()))\n",
        "ventas_array = np.array(list(total_ventas_por_categoria.values()))\n",
        "\n",
        "indice_max = np.argmax(ventas_array)\n",
        "indice_min = np.argmin(ventas_array)\n",
        "\n",
        "categoria_max_ventas = categories_array[indice_max]\n",
        "categoria_min_ventas = categories_array[indice_min]\n",
        "print(f\"\\nCategoría con mayores ventas: {categoria_max_ventas}\")\n",
        "print(f\"\\nCategoría con menores ventas: {categoria_min_ventas}\")"
      ],
      "metadata": {
        "id": "AOkbJT8IvZ9K",
        "colab": {
          "base_uri": "https://localhost:8080/"
        },
        "outputId": "6082c2e9-3a64-4b0a-df76-2479368c3599"
      },
      "execution_count": 27,
      "outputs": [
        {
          "output_type": "stream",
          "name": "stdout",
          "text": [
            "\n",
            "Categoría con mayores ventas: Electronics\n",
            "\n",
            "Categoría con menores ventas: Beauty\n"
          ]
        }
      ]
    },
    {
      "cell_type": "markdown",
      "source": [
        "# **3. Manipulación de Datos**\n"
      ],
      "metadata": {
        "id": "ABjXuq1rNvnz"
      }
    },
    {
      "cell_type": "markdown",
      "source": [
        "## **a) Filtrar los datos por una categoría de producto específica**\n"
      ],
      "metadata": {
        "id": "qcuDnRxnNyRP"
      }
    },
    {
      "cell_type": "markdown",
      "source": [
        "### **a.1) Uso de máscaras booleanas**"
      ],
      "metadata": {
        "id": "b6CYCGfwKg2z"
      }
    },
    {
      "cell_type": "code",
      "source": [
        "# Crea una máscara booleana que selecciona solo las filas correspondientes a la categoría 'Electronics'.\n",
        "mascara = data_csv['Product_Category'] == 'Electronics'\n",
        "\n",
        "# Filtra el DataFrame usando la máscara.\n",
        "categoria_filtrada = data_csv[mascara]\n",
        "\n",
        "# Imprime los primeros 5 registros de la categoría filtrada.\n",
        "print(\"\\nDatos filtrados para la categoría 'Electronics':\")\n",
        "print(categoria_filtrada[:5])"
      ],
      "metadata": {
        "id": "DLTiTDOkvas4",
        "colab": {
          "base_uri": "https://localhost:8080/"
        },
        "outputId": "14364fbc-353c-4301-910e-7e7fb67225e0"
      },
      "execution_count": null,
      "outputs": [
        {
          "output_type": "stream",
          "name": "stdout",
          "text": [
            "\n",
            "Datos filtrados para la categoría 'Electronics':\n",
            "[( 3, '2023-01-13', 'CUST003', 'Male', 50, 'Electronics', 1,  30,   30)\n",
            " ( 8, '2023-02-22', 'CUST008', 'Male', 30, 'Electronics', 4,  25,  100)\n",
            " ( 9, '2023-12-13', 'CUST009', 'Male', 63, 'Electronics', 2, 300,  600)\n",
            " (13, '2023-08-05', 'CUST013', 'Male', 22, 'Electronics', 3, 500, 1500)\n",
            " (15, '2023-01-16', 'CUST015', 'Female', 42, 'Electronics', 4, 500, 2000)]\n"
          ]
        }
      ]
    },
    {
      "cell_type": "markdown",
      "source": [
        "###**a.2) Uso de índices obtenidos con np.where**"
      ],
      "metadata": {
        "id": "J2TWkC2uKlcF"
      }
    },
    {
      "cell_type": "code",
      "source": [
        "# Usa np.where para encontrar los índices de las filas donde la categoría es 'Clothing'\n",
        "indices = np.where(data_csv['Product_Category'] == 'Clothing')[0]\n",
        "\n",
        "# Filtra el DataFrame usando los índices encontrados\n",
        "categoria_filtrada = data_csv[indices]\n",
        "\n",
        "# Imprime los primeros 5 registros de la categoría filtrada\n",
        "print(\"\\nDatos filtrados para la categoría 'Clothing':\")\n",
        "print(categoria_filtrada[:5])"
      ],
      "metadata": {
        "id": "M6brwOgXKmIz",
        "colab": {
          "base_uri": "https://localhost:8080/"
        },
        "outputId": "b4d21697-e9cc-4469-ef3c-0bb1cb990846"
      },
      "execution_count": null,
      "outputs": [
        {
          "output_type": "stream",
          "name": "stdout",
          "text": [
            "\n",
            "Datos filtrados para la categoría 'Clothing':\n",
            "[( 2, '2023-02-27', 'CUST002', 'Female', 26, 'Clothing', 2, 500, 1000)\n",
            " ( 4, '2023-05-21', 'CUST004', 'Male', 37, 'Clothing', 1, 500,  500)\n",
            " ( 7, '2023-03-13', 'CUST007', 'Male', 46, 'Clothing', 2,  25,   50)\n",
            " (10, '2023-10-07', 'CUST010', 'Female', 52, 'Clothing', 4,  50,  200)\n",
            " (11, '2023-02-14', 'CUST011', 'Male', 23, 'Clothing', 2,  50,  100)]\n"
          ]
        }
      ]
    },
    {
      "cell_type": "markdown",
      "source": [
        "## **b) Realizar operaciones matemáticas sobre los datos**"
      ],
      "metadata": {
        "id": "BHWpbx3hN0PG"
      }
    },
    {
      "cell_type": "markdown",
      "source": [
        "### **b.1) Usando máscaras booleanas directamente**"
      ],
      "metadata": {
        "id": "hlSeLL01KpT0"
      }
    },
    {
      "cell_type": "code",
      "source": [
        "# Calcula el total de ventas para la categoría 'Clothing'\n",
        "ventas_categoria_A = np.sum(data_csv['Total_Amount'][data_csv['Product_Category'] == 'Clothing'])\n",
        "\n",
        "# Calcula el total de ventas para la categoría 'Electronics'\n",
        "ventas_categoria_B = np.sum(data_csv['Total_Amount'][data_csv['Product_Category'] == 'Electronics'])\n",
        "\n",
        "# Suma las ventas de ambas categorías\n",
        "suma_ventas = ventas_categoria_A + ventas_categoria_B\n",
        "\n",
        "# Resta las ventas de 'Electronics' de las ventas de 'Clothing'\n",
        "resta_ventas = ventas_categoria_A - ventas_categoria_B\n",
        "\n",
        "# Multiplica las ventas de 'Clothing' por 1.1\n",
        "multiplicacion_ventas = ventas_categoria_A * 1.1\n",
        "\n",
        "# Divide las ventas de 'Clothing' entre las de 'Electronics', asegurándose de no dividir por 0\n",
        "division_ventas = ventas_categoria_A / ventas_categoria_B if ventas_categoria_B != 0 else 0\n",
        "\n",
        "# Imprime los resultados de las operaciones\n",
        "print(f\"\\nSuma de ventas entre Clothing y Electronics: {suma_ventas}\")\n",
        "print(f\"Resta de ventas entre Clothing y Electronics: {resta_ventas}\")\n",
        "print(f\"Multiplicación de ventas de Clothing por 1.1: {multiplicacion_ventas}\")\n",
        "print(f\"División de ventas entre Clothing y Electronics: {division_ventas}\")"
      ],
      "metadata": {
        "id": "GiNwHP2Fvb0d",
        "colab": {
          "base_uri": "https://localhost:8080/"
        },
        "outputId": "94378af4-7686-42c4-ddcc-130a02b5319f"
      },
      "execution_count": null,
      "outputs": [
        {
          "output_type": "stream",
          "name": "stdout",
          "text": [
            "\n",
            "Suma de ventas entre Clothing y Electronics: 312485\n",
            "Resta de ventas entre Clothing y Electronics: -1325\n",
            "Multiplicación de ventas de Clothing por 1.1: 171138.0\n",
            "División de ventas entre Clothing y Electronics: 0.9915553997641885\n"
          ]
        }
      ]
    },
    {
      "cell_type": "markdown",
      "source": [
        "### **b.2) Usando índices con np.where y operaciones numpy**"
      ],
      "metadata": {
        "id": "X7xyuQIDKp5x"
      }
    },
    {
      "cell_type": "code",
      "source": [
        "# Creamos un arreglo con las categorías de productos\n",
        "categorias = np.array(data_csv['Product_Category'])\n",
        "\n",
        "# Creamos un arreglo con el total de las ventas\n",
        "ventas_totales = np.array(data_csv['Total_Amount'])\n",
        "\n",
        "# Calculamos el total de ventas para la categoría 'Clothing'\n",
        "ventas_categoria_A = np.sum(ventas_totales[categorias == 'Clothing'])\n",
        "\n",
        "# Calculamos el total de ventas para la categoría 'Electronics'\n",
        "ventas_categoria_B = np.sum(ventas_totales[categorias == 'Electronics'])\n",
        "\n",
        "# Sumamos las ventas de las dos categorías\n",
        "suma_ventas = np.add(ventas_categoria_A, ventas_categoria_B)\n",
        "\n",
        "# Restamos las ventas de 'Electronics' de las de 'Clothing'\n",
        "resta_ventas = np.subtract(ventas_categoria_A, ventas_categoria_B)\n",
        "\n",
        "# Multiplicamos las ventas de 'Clothing' por 1.1 (por ejemplo, un incremento del 10%)\n",
        "multiplicacion_ventas = np.multiply(ventas_categoria_A, 1.1)\n",
        "\n",
        "# Dividimos las ventas de 'Clothing' entre las de 'Electronics', asegurándonos de que 'Electronics' no tenga ventas en 0\n",
        "division_ventas = np.divide(ventas_categoria_A, ventas_categoria_B) if ventas_categoria_B != 0 else 0\n",
        "\n",
        "# Imprimimos los resultados de las operaciones realizadas\n",
        "print(f\"\\nSuma de ventas entre Clothing y Electronics: {suma_ventas}\")\n",
        "print(f\"Resta de ventas entre Clothing y Electronics: {resta_ventas}\")\n",
        "print(f\"Multiplicación de ventas de Clothing por 1.1: {multiplicacion_ventas}\")\n",
        "print(f\"División de ventas entre Clothing y Electronics: {division_ventas}\")"
      ],
      "metadata": {
        "id": "uU4kCTwyKptr",
        "colab": {
          "base_uri": "https://localhost:8080/"
        },
        "outputId": "69dd54b1-935c-4463-b062-e4e5fedb5f4f"
      },
      "execution_count": null,
      "outputs": [
        {
          "output_type": "stream",
          "name": "stdout",
          "text": [
            "\n",
            "Suma de ventas entre Clothing y Electronics: 312485\n",
            "Resta de ventas entre Clothing y Electronics: -1325\n",
            "Multiplicación de ventas de Clothing por 1.1: 171138.0\n",
            "División de ventas entre Clothing y Electronics: 0.9915553997641885\n"
          ]
        }
      ]
    },
    {
      "cell_type": "code",
      "source": [],
      "metadata": {
        "id": "PXsp1E6fqg1W"
      },
      "execution_count": null,
      "outputs": []
    }
  ]
}